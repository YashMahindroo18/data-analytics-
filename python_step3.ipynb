{
 "cells": [
  {
   "cell_type": "markdown",
   "id": "0b41392e",
   "metadata": {},
   "source": [
    "# Type Conversion"
   ]
  },
  {
   "cell_type": "code",
   "execution_count": 4,
   "id": "2233498b",
   "metadata": {},
   "outputs": [
    {
     "name": "stdout",
     "output_type": "stream",
     "text": [
      "<class 'int'>\n",
      "<class 'float'>\n"
     ]
    }
   ],
   "source": [
    "x=3\n",
    "x\n",
    "print(type(x))\n",
    "y=float(x)\n",
    "print(type(y))"
   ]
  },
  {
   "cell_type": "code",
   "execution_count": 7,
   "id": "a30cbdf4",
   "metadata": {},
   "outputs": [
    {
     "name": "stdout",
     "output_type": "stream",
     "text": [
      "<class 'float'>\n",
      "3\n",
      "<class 'int'>\n"
     ]
    }
   ],
   "source": [
    "f=3.14\n",
    "print(type(f))\n",
    "z=int(f)\n",
    "print(z)\n",
    "print(type(z))"
   ]
  },
  {
   "cell_type": "code",
   "execution_count": 9,
   "id": "1ca0e56b",
   "metadata": {},
   "outputs": [
    {
     "name": "stdout",
     "output_type": "stream",
     "text": [
      "87\n"
     ]
    }
   ],
   "source": [
    "d='87'\n",
    "c=int(d)\n",
    "type(c)\n",
    "print(c)"
   ]
  },
  {
   "cell_type": "code",
   "execution_count": 10,
   "id": "46a587c5",
   "metadata": {},
   "outputs": [
    {
     "data": {
      "text/plain": [
       "'87'"
      ]
     },
     "execution_count": 10,
     "metadata": {},
     "output_type": "execute_result"
    }
   ],
   "source": [
    "d"
   ]
  },
  {
   "cell_type": "code",
   "execution_count": 15,
   "id": "3a37bad6",
   "metadata": {},
   "outputs": [
    {
     "name": "stdout",
     "output_type": "stream",
     "text": [
      "78.0\n"
     ]
    }
   ],
   "source": [
    "#string to float\n",
    "d='78'\n",
    "h=float(d)\n",
    "print(h)"
   ]
  },
  {
   "cell_type": "code",
   "execution_count": 16,
   "id": "46d46078",
   "metadata": {},
   "outputs": [
    {
     "data": {
      "text/plain": [
       "set"
      ]
     },
     "execution_count": 16,
     "metadata": {},
     "output_type": "execute_result"
    }
   ],
   "source": [
    "s={\"hello\"}\n",
    "type(s)"
   ]
  },
  {
   "cell_type": "code",
   "execution_count": 17,
   "id": "1a0607ab",
   "metadata": {},
   "outputs": [
    {
     "name": "stdout",
     "output_type": "stream",
     "text": [
      "Hello World!\n"
     ]
    }
   ],
   "source": [
    "x=10\n",
    "y=9\n",
    "if(x>y):\n",
    "    print(\"Hello World!\")"
   ]
  },
  {
   "cell_type": "code",
   "execution_count": 19,
   "id": "a5352558",
   "metadata": {},
   "outputs": [
    {
     "name": "stdout",
     "output_type": "stream",
     "text": [
      "How Are You?\n"
     ]
    }
   ],
   "source": [
    "x=1\n",
    "y=9\n",
    "if(x>y):\n",
    "    print(\"Hello World!\")\n",
    "else:\n",
    "    print(\"How Are You?\")"
   ]
  },
  {
   "cell_type": "code",
   "execution_count": 23,
   "id": "f76b5add",
   "metadata": {},
   "outputs": [
    {
     "name": "stdout",
     "output_type": "stream",
     "text": [
      "enter age: 56\n",
      "enter age:56\n",
      "they are twins\n"
     ]
    }
   ],
   "source": [
    "yash=int(input(\"enter age: \"))\n",
    "harry=int(input(\"enter age:\"))\n",
    "if(yash>harry):\n",
    "    print(\"yash is older\")\n",
    "elif(yash<harry):\n",
    "    print(\"harry is older\")\n",
    "else:\n",
    "    print(\"they are twins\")"
   ]
  },
  {
   "cell_type": "code",
   "execution_count": 25,
   "id": "d917f063",
   "metadata": {},
   "outputs": [
    {
     "name": "stdout",
     "output_type": "stream",
     "text": [
      "enter number between 1 to 75\n",
      "Thursday\n"
     ]
    }
   ],
   "source": [
    "inp=int(input(\"enter number between 1 to 7\"))\n",
    "if(inp==1):\n",
    "    print(\"Sunday\")\n",
    "elif(inp==2):\n",
    "    print(\"Monday\")\n",
    "elif(inp==3):\n",
    "    print(\"Tuesday\")\n",
    "elif(inp==4):\n",
    "    print(\"Wednesday\")\n",
    "elif(inp==5):\n",
    "    print(\"Thursday\")\n",
    "elif(inp==6):\n",
    "    print(\"Friday\")\n",
    "elif(inp==7):\n",
    "    print(\"Saturday\")\n",
    "else:\n",
    "    print(\"enter valid value!\")"
   ]
  },
  {
   "cell_type": "code",
   "execution_count": 26,
   "id": "4716ffb3",
   "metadata": {},
   "outputs": [
    {
     "name": "stdout",
     "output_type": "stream",
     "text": [
      "enter a number8468\n",
      "The Number Is Even\n"
     ]
    }
   ],
   "source": [
    "n=int(input(\"enter a number\"))\n",
    "if(n%2==0):\n",
    "    print(\"The Number Is Even\")\n",
    "else:\n",
    "    print(\"The Number Is Odd\")"
   ]
  },
  {
   "cell_type": "code",
   "execution_count": 27,
   "id": "36f29cb2",
   "metadata": {},
   "outputs": [
    {
     "name": "stdout",
     "output_type": "stream",
     "text": [
      "enter your age89\n",
      "you are eligible\n"
     ]
    }
   ],
   "source": [
    "y=int(input(\"enter your age\"))\n",
    "if(age>19):\n",
    "    print(\"you are eligible\")\n",
    "else:\n",
    "    print(\"Grow Up First\")"
   ]
  },
  {
   "cell_type": "code",
   "execution_count": 28,
   "id": "5be393fd",
   "metadata": {},
   "outputs": [
    {
     "name": "stdout",
     "output_type": "stream",
     "text": [
      "you can vote\n"
     ]
    }
   ],
   "source": [
    "age=19\n",
    "result='you can vote' if age>18 else \"you cannot vote\"\n",
    "print(result)"
   ]
  },
  {
   "cell_type": "markdown",
   "id": "cee5aa3b",
   "metadata": {},
   "source": [
    "# Nested If"
   ]
  },
  {
   "cell_type": "code",
   "execution_count": 29,
   "id": "c68f423e",
   "metadata": {},
   "outputs": [
    {
     "name": "stdout",
     "output_type": "stream",
     "text": [
      "x is largest\n"
     ]
    }
   ],
   "source": [
    "x=30\n",
    "y=4\n",
    "z=5\n",
    "if(x>y):\n",
    "    if(x>z):\n",
    "        print(\"x is largest\")\n",
    "    else:\n",
    "        print(\"z is largest\")\n",
    "else:\n",
    "    if(y>z):\n",
    "        print(\"y is largest\")\n",
    "    else:\n",
    "        print(\"z is largest\")"
   ]
  },
  {
   "cell_type": "code",
   "execution_count": 1,
   "id": "e6744ddf",
   "metadata": {},
   "outputs": [
    {
     "name": "stdout",
     "output_type": "stream",
     "text": [
      "enter an integer:79\n",
      "the number is odd\n"
     ]
    }
   ],
   "source": [
    "a1=int(input(\"enter an integer:\"))\n",
    "if(a1%2==0):\n",
    "    print(\"the Nmber is even\")\n",
    "else:\n",
    "    print(\"the number is odd\")\n",
    "    "
   ]
  },
  {
   "cell_type": "code",
   "execution_count": 7,
   "id": "fca65515",
   "metadata": {},
   "outputs": [
    {
     "name": "stdout",
     "output_type": "stream",
     "text": [
      "enter age60\n",
      "you are an adult\n"
     ]
    }
   ],
   "source": [
    "age=int(input(\"enter age\"))\n",
    "if(age<13):\n",
    "    print(\"you are a child\")\n",
    "elif(age>=13 and age<18):\n",
    "    print(\"you are a teenager\")\n",
    "elif(age>18 and age<60):\n",
    "    print(\"you are an adult\")\n",
    "elif(age>=60):\n",
    "    print(\"you are an adult\")"
   ]
  },
  {
   "cell_type": "code",
   "execution_count": 10,
   "id": "cf81b47d",
   "metadata": {},
   "outputs": [
    {
     "name": "stdout",
     "output_type": "stream",
     "text": [
      "enter the year2000\n",
      "the year is leap year\n"
     ]
    }
   ],
   "source": [
    "year=int(input(\"enter the year\"))\n",
    "if(year%4==0 and year%100==0):\n",
    "    print(\"the year is leap year\")\n",
    "else:\n",
    "    print(\"the year is not leap year\")"
   ]
  },
  {
   "cell_type": "code",
   "execution_count": 12,
   "id": "391827f6",
   "metadata": {},
   "outputs": [
    {
     "name": "stdout",
     "output_type": "stream",
     "text": [
      "enter a number89\n",
      "enter a number56\n",
      "enter a number132\n",
      "132 is the greatest umber\n"
     ]
    }
   ],
   "source": [
    "x=int(input(\"enter a number\"))\n",
    "y=int(input(\"enter a number\"))\n",
    "z=int(input(\"enter a number\"))\n",
    "if(x>y):\n",
    "    if(x>z):\n",
    "        print(x,\" is the greatest number\")\n",
    "    else:\n",
    "        print(z, \"is the greatest umber\")\n",
    "elif(y>x):\n",
    "    if(y>z):\n",
    "        print(y,\" is the greates number\")\n",
    "    else:\n",
    "        print(\"z is the largest number\")"
   ]
  },
  {
   "cell_type": "code",
   "execution_count": 15,
   "id": "4aa61d5a",
   "metadata": {},
   "outputs": [
    {
     "name": "stdout",
     "output_type": "stream",
     "text": [
      "enter a number-9864\n",
      "the number is negative\n"
     ]
    }
   ],
   "source": [
    "x=int(input(\"enter a number\"))\n",
    "if(x>0):\n",
    "    print(\"the number is positive \")\n",
    "elif(x<0):\n",
    "    print(\"the number is negative\")\n",
    "else:\n",
    "    print(\"the number is equal to zero\")"
   ]
  },
  {
   "cell_type": "code",
   "execution_count": 2,
   "id": "ba710375",
   "metadata": {},
   "outputs": [
    {
     "name": "stdout",
     "output_type": "stream",
     "text": [
      "Enter an alphbet: e\n",
      "Vowel\n"
     ]
    }
   ],
   "source": [
    "vowels = ['a','e','i','o','u']\n",
    "i = input('Enter an alphbet: ')\n",
    "if i in vowels:\n",
    "    print('Vowel')\n",
    "else:\n",
    "    print('Consonant')"
   ]
  },
  {
   "cell_type": "markdown",
   "id": "1ab56208",
   "metadata": {},
   "source": [
    "# Loops\n",
    "## ~While loop\n",
    "## ~For"
   ]
  },
  {
   "cell_type": "code",
   "execution_count": 4,
   "id": "54626a1f",
   "metadata": {},
   "outputs": [
    {
     "name": "stdout",
     "output_type": "stream",
     "text": [
      "yash\n",
      "yash\n",
      "yash\n",
      "yash\n",
      "yash\n",
      "yash\n",
      "yash\n",
      "yash\n",
      "yash\n",
      "yash\n"
     ]
    }
   ],
   "source": [
    "x=10\n",
    "while(x<20):\n",
    "    print(\"yash\")\n",
    "    x+=1"
   ]
  },
  {
   "cell_type": "code",
   "execution_count": null,
   "id": "3ad16182",
   "metadata": {},
   "outputs": [],
   "source": [
    "x=4\n",
    "while(x<10):\n",
    "    print(x)\n",
    "    x+=1"
   ]
  },
  {
   "cell_type": "code",
   "execution_count": null,
   "id": "748c16cf",
   "metadata": {},
   "outputs": [],
   "source": [
    "ny=int(input(\"enter an integer\"))\n",
    "i=1\n",
    "while(i<10):\n",
    "    print(i,\"X\",ny,\"=\",i*ny)\n",
    "    i+=1\n"
   ]
  },
  {
   "cell_type": "code",
   "execution_count": null,
   "id": "5ac92818",
   "metadata": {},
   "outputs": [],
   "source": []
  },
  {
   "cell_type": "code",
   "execution_count": null,
   "id": "dbdd8e98",
   "metadata": {},
   "outputs": [],
   "source": []
  },
  {
   "cell_type": "code",
   "execution_count": null,
   "id": "95a4162e",
   "metadata": {},
   "outputs": [],
   "source": [
    "ny=int(input(\"enter an integer\"))\n",
    "i=1\n",
    "while(i<10):\n",
    "    print(i,\"X\",ny,\"=\",i*ny)\n",
    "    i+=1\n"
   ]
  },
  {
   "cell_type": "code",
   "execution_count": 12,
   "id": "9a465e85",
   "metadata": {},
   "outputs": [
    {
     "name": "stdout",
     "output_type": "stream",
     "text": [
      "enter an integer5\n",
      "1 X 5 = 5\n",
      "2 X 5 = 10\n",
      "3 X 5 = 15\n",
      "4 X 5 = 20\n",
      "5 X 5 = 25\n",
      "6 X 5 = 30\n",
      "7 X 5 = 35\n",
      "8 X 5 = 40\n",
      "9 X 5 = 45\n"
     ]
    }
   ],
   "source": [
    "ny=int(input(\"enter an integer\"))\n",
    "i=1\n",
    "while(i<10):\n",
    "    print(i,\"X\",ny,\"=\",i*ny)\n",
    "    i+=1\n"
   ]
  },
  {
   "cell_type": "code",
   "execution_count": 13,
   "id": "e2ed21c2",
   "metadata": {},
   "outputs": [
    {
     "name": "stdout",
     "output_type": "stream",
     "text": [
      "apple\n",
      "banana\n",
      "spice\n"
     ]
    }
   ],
   "source": [
    "f=[\"apple\",\"banana\",\"spice\"]\n",
    "for list in f:\n",
    "    print(list)"
   ]
  },
  {
   "cell_type": "code",
   "execution_count": 14,
   "id": "e63a6c57",
   "metadata": {},
   "outputs": [
    {
     "name": "stdout",
     "output_type": "stream",
     "text": [
      "key\n",
      "1\n",
      "2\n"
     ]
    }
   ],
   "source": [
    "dict={\"key\":\"value\",1:\"one\",2:\"two\"}\n",
    "for t in dict:\n",
    "    print(t)"
   ]
  },
  {
   "cell_type": "code",
   "execution_count": 15,
   "id": "f7073071",
   "metadata": {},
   "outputs": [
    {
     "name": "stdout",
     "output_type": "stream",
     "text": [
      "value\n",
      "one\n",
      "two\n"
     ]
    }
   ],
   "source": [
    "for t in dict.values():\n",
    "    print(t)\n",
    "    "
   ]
  },
  {
   "cell_type": "code",
   "execution_count": 16,
   "id": "54f3137f",
   "metadata": {},
   "outputs": [
    {
     "name": "stdout",
     "output_type": "stream",
     "text": [
      "('key', 'value')\n",
      "(1, 'one')\n",
      "(2, 'two')\n"
     ]
    }
   ],
   "source": [
    "for t in dict.items():\n",
    "    print(t)"
   ]
  },
  {
   "cell_type": "markdown",
   "id": "11b0f591",
   "metadata": {},
   "source": []
  },
  {
   "cell_type": "markdown",
   "id": "8f333677",
   "metadata": {},
   "source": [
    "# Generator Object"
   ]
  },
  {
   "cell_type": "code",
   "execution_count": 6,
   "id": "959670a4",
   "metadata": {},
   "outputs": [
    {
     "name": "stdout",
     "output_type": "stream",
     "text": [
      "<generator object <genexpr> at 0x0000020FF816C450>\n"
     ]
    },
    {
     "data": {
      "text/plain": [
       "0"
      ]
     },
     "execution_count": 6,
     "metadata": {},
     "output_type": "execute_result"
    }
   ],
   "source": [
    "powers=(i**2 for i in range(10))\n",
    "print(powers)\n",
    "next(powers)"
   ]
  },
  {
   "cell_type": "code",
   "execution_count": 7,
   "id": "69ce7528",
   "metadata": {},
   "outputs": [
    {
     "data": {
      "text/plain": [
       "1"
      ]
     },
     "execution_count": 7,
     "metadata": {},
     "output_type": "execute_result"
    }
   ],
   "source": [
    "next(powers)"
   ]
  },
  {
   "cell_type": "code",
   "execution_count": 8,
   "id": "251c4677",
   "metadata": {},
   "outputs": [
    {
     "data": {
      "text/plain": [
       "4"
      ]
     },
     "execution_count": 8,
     "metadata": {},
     "output_type": "execute_result"
    }
   ],
   "source": [
    "next(powers)"
   ]
  },
  {
   "cell_type": "code",
   "execution_count": 9,
   "id": "b1d60c64",
   "metadata": {},
   "outputs": [
    {
     "data": {
      "text/plain": [
       "9"
      ]
     },
     "execution_count": 9,
     "metadata": {},
     "output_type": "execute_result"
    }
   ],
   "source": [
    "next(powers)"
   ]
  },
  {
   "cell_type": "code",
   "execution_count": 14,
   "id": "8185c6a0",
   "metadata": {},
   "outputs": [
    {
     "name": "stdout",
     "output_type": "stream",
     "text": [
      "apple sweet\n",
      "banana sweet\n",
      "orange sweet\n",
      "apple juicy\n",
      "banana juicy\n",
      "orange juicy\n",
      "apple sour\n",
      "banana sour\n",
      "orange sour\n"
     ]
    }
   ],
   "source": [
    "lst1=[\"apple\",\"banana\",\"orange\"]\n",
    "lst2=[\"sweet\",\"juicy\",\"sour\"]\n",
    "for lsts2 in lst2:\n",
    "    for lsts1 in lst1:\n",
    "        print(lsts1,lsts2)\n",
    "        "
   ]
  },
  {
   "cell_type": "code",
   "execution_count": 17,
   "id": "9dcae10b",
   "metadata": {},
   "outputs": [
    {
     "name": "stdout",
     "output_type": "stream",
     "text": [
      "0\n",
      "1\n",
      "2\n"
     ]
    }
   ],
   "source": [
    "n=0\n",
    "while(n<6):\n",
    "    \n",
    "    if(n==3):\n",
    "        break\n",
    "    print(n)\n",
    "    n+=1\n",
    "    "
   ]
  },
  {
   "cell_type": "code",
   "execution_count": 18,
   "id": "77c6ad0f",
   "metadata": {},
   "outputs": [
    {
     "name": "stdout",
     "output_type": "stream",
     "text": [
      "apple\n",
      "banana\n"
     ]
    }
   ],
   "source": [
    "lst1=[\"apple\",\"banana\",\"orange\"]\n",
    "for i in lst1:\n",
    "    print(i)\n",
    "    if (i==\"banana\"):\n",
    "        break"
   ]
  },
  {
   "cell_type": "code",
   "execution_count": 20,
   "id": "ddecb996",
   "metadata": {},
   "outputs": [
    {
     "name": "stdout",
     "output_type": "stream",
     "text": [
      "please enter valid name!\n",
      "Done.!\n"
     ]
    }
   ],
   "source": [
    "try:\n",
    "    print(xyz)\n",
    "except:\n",
    "    print(\"please enter valid name!\")\n",
    "finally:\n",
    "    print(\"Done.!\")"
   ]
  },
  {
   "cell_type": "code",
   "execution_count": 21,
   "id": "b29b3c91",
   "metadata": {},
   "outputs": [
    {
     "ename": "Exception",
     "evalue": "the number is less than 25",
     "output_type": "error",
     "traceback": [
      "\u001b[1;31m---------------------------------------------------------------------------\u001b[0m",
      "\u001b[1;31mException\u001b[0m                                 Traceback (most recent call last)",
      "Cell \u001b[1;32mIn[21], line 3\u001b[0m\n\u001b[0;32m      1\u001b[0m X\u001b[38;5;241m=\u001b[39m\u001b[38;5;241m24\u001b[39m\n\u001b[0;32m      2\u001b[0m \u001b[38;5;28;01mif\u001b[39;00m(X\u001b[38;5;241m<\u001b[39m\u001b[38;5;241m25\u001b[39m):\n\u001b[1;32m----> 3\u001b[0m     \u001b[38;5;28;01mraise\u001b[39;00m \u001b[38;5;167;01mException\u001b[39;00m(\u001b[38;5;124m\"\u001b[39m\u001b[38;5;124mthe number is less than 25\u001b[39m\u001b[38;5;124m\"\u001b[39m)\n",
      "\u001b[1;31mException\u001b[0m: the number is less than 25"
     ]
    }
   ],
   "source": [
    "X=24\n",
    "if(X<25):\n",
    "    raise Exception(\"the number is less than 25\")"
   ]
  },
  {
   "cell_type": "code",
   "execution_count": 25,
   "id": "ebc13ea8",
   "metadata": {},
   "outputs": [
    {
     "ename": "TypeError",
     "evalue": "only integers are allowed !",
     "output_type": "error",
     "traceback": [
      "\u001b[1;31m---------------------------------------------------------------------------\u001b[0m",
      "\u001b[1;31mTypeError\u001b[0m                                 Traceback (most recent call last)",
      "Cell \u001b[1;32mIn[25], line 3\u001b[0m\n\u001b[0;32m      1\u001b[0m y\u001b[38;5;241m=\u001b[39m\u001b[38;5;124m\"\u001b[39m\u001b[38;5;124myash\u001b[39m\u001b[38;5;124m\"\u001b[39m\n\u001b[0;32m      2\u001b[0m \u001b[38;5;28;01mif\u001b[39;00m \u001b[38;5;28mtype\u001b[39m(y) \u001b[38;5;129;01mis\u001b[39;00m \u001b[38;5;129;01mnot\u001b[39;00m \u001b[38;5;28mint\u001b[39m:\n\u001b[1;32m----> 3\u001b[0m     \u001b[38;5;28;01mraise\u001b[39;00m \u001b[38;5;167;01mTypeError\u001b[39;00m(\u001b[38;5;124m\"\u001b[39m\u001b[38;5;124monly integers are allowed !\u001b[39m\u001b[38;5;124m\"\u001b[39m)\n",
      "\u001b[1;31mTypeError\u001b[0m: only integers are allowed !"
     ]
    }
   ],
   "source": [
    "y=\"yash\"\n",
    "if type(y) is not int:\n",
    "    raise TypeError(\"only integers are allowed !\")"
   ]
  },
  {
   "cell_type": "code",
   "execution_count": 29,
   "id": "12f56bad",
   "metadata": {},
   "outputs": [],
   "source": [
    "def area(radius):\n",
    "    area=3.14*radius*radius\n",
    "    print(\"Area of circle is:\\t\")\n",
    "    return area"
   ]
  },
  {
   "cell_type": "code",
   "execution_count": 27,
   "id": "304b9288",
   "metadata": {},
   "outputs": [
    {
     "data": {
      "text/plain": [
       "113.03999999999999"
      ]
     },
     "execution_count": 27,
     "metadata": {},
     "output_type": "execute_result"
    }
   ],
   "source": [
    "area(6)"
   ]
  },
  {
   "cell_type": "code",
   "execution_count": 31,
   "id": "9bd0aae7",
   "metadata": {},
   "outputs": [
    {
     "name": "stdout",
     "output_type": "stream",
     "text": [
      "Area of circle is:\n"
     ]
    },
    {
     "data": {
      "text/plain": [
       "200.96"
      ]
     },
     "execution_count": 31,
     "metadata": {},
     "output_type": "execute_result"
    }
   ],
   "source": [
    "area(8)"
   ]
  },
  {
   "cell_type": "code",
   "execution_count": 32,
   "id": "722c6d1c",
   "metadata": {},
   "outputs": [
    {
     "name": "stdout",
     "output_type": "stream",
     "text": [
      "Area of circle is:\n"
     ]
    },
    {
     "data": {
      "text/plain": [
       "153.86"
      ]
     },
     "execution_count": 32,
     "metadata": {},
     "output_type": "execute_result"
    }
   ],
   "source": [
    "area(7)"
   ]
  },
  {
   "cell_type": "code",
   "execution_count": 1,
   "id": "9a934eac",
   "metadata": {},
   "outputs": [],
   "source": [
    "def si(p,r,t):\n",
    "    p=int(input(\"enter principle\"))\n",
    "    r=int(input(\"rnter the rate\"))\n",
    "    t=int(input(\"enter the time\"))\n",
    "    s=(p*r*t)/100\n",
    "    return s"
   ]
  },
  {
   "cell_type": "code",
   "execution_count": 2,
   "id": "7136c576",
   "metadata": {},
   "outputs": [
    {
     "name": "stdout",
     "output_type": "stream",
     "text": [
      "enter principle12000\n",
      "rnter the rate5000\n",
      "enter the time30\n"
     ]
    },
    {
     "data": {
      "text/plain": [
       "18000000.0"
      ]
     },
     "execution_count": 2,
     "metadata": {},
     "output_type": "execute_result"
    }
   ],
   "source": [
    "si(12000,2,1)"
   ]
  },
  {
   "cell_type": "code",
   "execution_count": 3,
   "id": "4ab032f1",
   "metadata": {},
   "outputs": [],
   "source": [
    "def func(x,y,z):\n",
    "    sm=x+y+z\n",
    "    return sm"
   ]
  },
  {
   "cell_type": "code",
   "execution_count": 4,
   "id": "11a74ec6",
   "metadata": {},
   "outputs": [
    {
     "data": {
      "text/plain": [
       "6"
      ]
     },
     "execution_count": 4,
     "metadata": {},
     "output_type": "execute_result"
    }
   ],
   "source": [
    "func(1,2,3)"
   ]
  },
  {
   "cell_type": "markdown",
   "id": "e6b4d7c7",
   "metadata": {},
   "source": [
    "# scope"
   ]
  },
  {
   "cell_type": "code",
   "execution_count": 5,
   "id": "33c2bf99",
   "metadata": {},
   "outputs": [],
   "source": [
    "def fun():\n",
    "    global p\n",
    "    p=90\n",
    "    return p\n"
   ]
  },
  {
   "cell_type": "code",
   "execution_count": 6,
   "id": "73a714c3",
   "metadata": {},
   "outputs": [
    {
     "data": {
      "text/plain": [
       "90"
      ]
     },
     "execution_count": 6,
     "metadata": {},
     "output_type": "execute_result"
    }
   ],
   "source": [
    "fun()"
   ]
  },
  {
   "cell_type": "code",
   "execution_count": 7,
   "id": "c9c3996f",
   "metadata": {},
   "outputs": [
    {
     "data": {
      "text/plain": [
       "90"
      ]
     },
     "execution_count": 7,
     "metadata": {},
     "output_type": "execute_result"
    }
   ],
   "source": [
    "p"
   ]
  },
  {
   "cell_type": "markdown",
   "id": "8dfc70e4",
   "metadata": {},
   "source": [
    "# lambda \n",
    "## can take any number of argument but can have only on expression"
   ]
  },
  {
   "cell_type": "code",
   "execution_count": 8,
   "id": "52dbb1cb",
   "metadata": {},
   "outputs": [
    {
     "data": {
      "text/plain": [
       "13"
      ]
     },
     "execution_count": 8,
     "metadata": {},
     "output_type": "execute_result"
    }
   ],
   "source": [
    "pl=lambda x:x+10\n",
    "pl(3)"
   ]
  },
  {
   "cell_type": "code",
   "execution_count": 9,
   "id": "d368e63d",
   "metadata": {},
   "outputs": [
    {
     "data": {
      "text/plain": [
       "18"
      ]
     },
     "execution_count": 9,
     "metadata": {},
     "output_type": "execute_result"
    }
   ],
   "source": [
    "pl(8)"
   ]
  },
  {
   "cell_type": "code",
   "execution_count": 10,
   "id": "d2f80755",
   "metadata": {},
   "outputs": [
    {
     "data": {
      "text/plain": [
       "15"
      ]
     },
     "execution_count": 10,
     "metadata": {},
     "output_type": "execute_result"
    }
   ],
   "source": [
    "multiply=lambda a,b:a*b\n",
    "multiply(5,3)"
   ]
  },
  {
   "cell_type": "code",
   "execution_count": 13,
   "id": "9f71b4ac",
   "metadata": {},
   "outputs": [
    {
     "data": {
      "text/plain": [
       "9"
      ]
     },
     "execution_count": 13,
     "metadata": {},
     "output_type": "execute_result"
    }
   ],
   "source": [
    "triple=lambda a,b,c:a+b*c\n",
    "triple(9,0,8)"
   ]
  },
  {
   "cell_type": "markdown",
   "id": "26e05d4c",
   "metadata": {},
   "source": [
    "# python modules\n",
    "## built in modules"
   ]
  },
  {
   "cell_type": "code",
   "execution_count": 1,
   "id": "76c844d7",
   "metadata": {},
   "outputs": [
    {
     "name": "stdout",
     "output_type": "stream",
     "text": [
      "2023-11-18 18:45:07.666089\n"
     ]
    }
   ],
   "source": [
    "import datetime\n",
    "print(datetime.datetime.now())"
   ]
  },
  {
   "cell_type": "code",
   "execution_count": 2,
   "id": "361079fd",
   "metadata": {},
   "outputs": [
    {
     "name": "stdout",
     "output_type": "stream",
     "text": [
      "2007-01-31 00:00:00\n"
     ]
    }
   ],
   "source": [
    "newdate=datetime.datetime(2007,1,31)\n",
    "print(newdate)"
   ]
  },
  {
   "cell_type": "code",
   "execution_count": 10,
   "id": "45906c63",
   "metadata": {},
   "outputs": [
    {
     "data": {
      "text/plain": [
       "'Wednesday'"
      ]
     },
     "execution_count": 10,
     "metadata": {},
     "output_type": "execute_result"
    }
   ],
   "source": [
    "newdate.strftime(\"%A\")"
   ]
  },
  {
   "cell_type": "code",
   "execution_count": 7,
   "id": "06167399",
   "metadata": {},
   "outputs": [
    {
     "data": {
      "text/plain": [
       "'January'"
      ]
     },
     "execution_count": 7,
     "metadata": {},
     "output_type": "execute_result"
    }
   ],
   "source": [
    "newdate.strftime(\"%B\")"
   ]
  },
  {
   "cell_type": "code",
   "execution_count": 8,
   "id": "d6b9557a",
   "metadata": {},
   "outputs": [
    {
     "data": {
      "text/plain": [
       "'Jan'"
      ]
     },
     "execution_count": 8,
     "metadata": {},
     "output_type": "execute_result"
    }
   ],
   "source": [
    "newdate.strftime(\"%b\")"
   ]
  },
  {
   "cell_type": "code",
   "execution_count": 12,
   "id": "103d2b05",
   "metadata": {},
   "outputs": [
    {
     "data": {
      "text/plain": [
       "'31 '"
      ]
     },
     "execution_count": 12,
     "metadata": {},
     "output_type": "execute_result"
    }
   ],
   "source": [
    "newdate.strftime(\"%d \")"
   ]
  },
  {
   "cell_type": "code",
   "execution_count": 13,
   "id": "ddad5e7b",
   "metadata": {},
   "outputs": [
    {
     "data": {
      "text/plain": [
       "'2007'"
      ]
     },
     "execution_count": 13,
     "metadata": {},
     "output_type": "execute_result"
    }
   ],
   "source": [
    "newdate.strftime(\"%Y\")"
   ]
  },
  {
   "cell_type": "markdown",
   "id": "dcca4717",
   "metadata": {},
   "source": [
    "# Math Module "
   ]
  },
  {
   "cell_type": "code",
   "execution_count": 16,
   "id": "949d9c4d",
   "metadata": {},
   "outputs": [
    {
     "data": {
      "text/plain": [
       "8.0"
      ]
     },
     "execution_count": 16,
     "metadata": {},
     "output_type": "execute_result"
    }
   ],
   "source": [
    "import math\n",
    "math.sqrt(64)"
   ]
  },
  {
   "cell_type": "code",
   "execution_count": 17,
   "id": "d7aeb658",
   "metadata": {},
   "outputs": [
    {
     "data": {
      "text/plain": [
       "9"
      ]
     },
     "execution_count": 17,
     "metadata": {},
     "output_type": "execute_result"
    }
   ],
   "source": [
    "math.ceil(8.987)#round up the digit"
   ]
  },
  {
   "cell_type": "code",
   "execution_count": 18,
   "id": "ffa04e21",
   "metadata": {},
   "outputs": [
    {
     "data": {
      "text/plain": [
       "8"
      ]
     },
     "execution_count": 18,
     "metadata": {},
     "output_type": "execute_result"
    }
   ],
   "source": [
    "math.floor(8.987)"
   ]
  },
  {
   "cell_type": "code",
   "execution_count": 19,
   "id": "cc616e06",
   "metadata": {},
   "outputs": [
    {
     "data": {
      "text/plain": [
       "120"
      ]
     },
     "execution_count": 19,
     "metadata": {},
     "output_type": "execute_result"
    }
   ],
   "source": [
    "import math as m\n",
    "m.factorial(5)"
   ]
  },
  {
   "cell_type": "markdown",
   "id": "60f83e4a",
   "metadata": {},
   "source": [
    "# Random Module"
   ]
  },
  {
   "cell_type": "code",
   "execution_count": 27,
   "id": "73e4f577",
   "metadata": {},
   "outputs": [
    {
     "data": {
      "text/plain": [
       "69"
      ]
     },
     "execution_count": 27,
     "metadata": {},
     "output_type": "execute_result"
    }
   ],
   "source": [
    "import random\n",
    "random.randint(1,112)"
   ]
  },
  {
   "cell_type": "code",
   "execution_count": 31,
   "id": "0f713ebb",
   "metadata": {},
   "outputs": [
    {
     "data": {
      "text/plain": [
       "5"
      ]
     },
     "execution_count": 31,
     "metadata": {},
     "output_type": "execute_result"
    }
   ],
   "source": [
    "random.randrange(9)"
   ]
  },
  {
   "cell_type": "code",
   "execution_count": 32,
   "id": "2b8df14e",
   "metadata": {},
   "outputs": [
    {
     "name": "stdout",
     "output_type": "stream",
     "text": [
      "head\n"
     ]
    }
   ],
   "source": [
    "x=random.randint(1,2)\n",
    "if x==1:\n",
    "    print(\"head\")\n",
    "else:\n",
    "    print(\"Tails\")"
   ]
  },
  {
   "cell_type": "code",
   "execution_count": 33,
   "id": "4b575296",
   "metadata": {},
   "outputs": [
    {
     "data": {
      "text/plain": [
       "'Head'"
      ]
     },
     "execution_count": 33,
     "metadata": {},
     "output_type": "execute_result"
    }
   ],
   "source": [
    "random.choice(['Head','Tail'])"
   ]
  },
  {
   "cell_type": "code",
   "execution_count": 34,
   "id": "ce4b8d98",
   "metadata": {},
   "outputs": [
    {
     "name": "stdout",
     "output_type": "stream",
     "text": [
      "head\n",
      "tail\n",
      "tail\n",
      "head\n",
      "head\n"
     ]
    }
   ],
   "source": [
    "for i in range(5):\n",
    "    print(random.choice(['head','tail']))"
   ]
  },
  {
   "cell_type": "code",
   "execution_count": 40,
   "id": "11ba7692",
   "metadata": {},
   "outputs": [],
   "source": [
    "def toss():\n",
    "    return random.choice(['head','tails'])"
   ]
  },
  {
   "cell_type": "code",
   "execution_count": 41,
   "id": "6a480693",
   "metadata": {},
   "outputs": [
    {
     "data": {
      "text/plain": [
       "'tails'"
      ]
     },
     "execution_count": 41,
     "metadata": {},
     "output_type": "execute_result"
    }
   ],
   "source": [
    "toss()"
   ]
  },
  {
   "cell_type": "code",
   "execution_count": 42,
   "id": "9821b13f",
   "metadata": {},
   "outputs": [
    {
     "ename": "ModuleNotFoundError",
     "evalue": "No module named 'Python_step4'",
     "output_type": "error",
     "traceback": [
      "\u001b[1;31m---------------------------------------------------------------------------\u001b[0m",
      "\u001b[1;31mModuleNotFoundError\u001b[0m                       Traceback (most recent call last)",
      "Cell \u001b[1;32mIn[42], line 1\u001b[0m\n\u001b[1;32m----> 1\u001b[0m \u001b[38;5;28;01mimport\u001b[39;00m \u001b[38;5;21;01mPython_step4\u001b[39;00m \u001b[38;5;28;01mas\u001b[39;00m \u001b[38;5;21;01mt\u001b[39;00m\n\u001b[0;32m      2\u001b[0m t\u001b[38;5;241m.\u001b[39mgreeting(\u001b[38;5;124m\"\u001b[39m\u001b[38;5;124myash\u001b[39m\u001b[38;5;124m\"\u001b[39m)\n",
      "\u001b[1;31mModuleNotFoundError\u001b[0m: No module named 'Python_step4'"
     ]
    }
   ],
   "source": [
    "import Python_step4 as t\n",
    "t.greeting(\"yash\")"
   ]
  },
  {
   "cell_type": "code",
   "execution_count": null,
   "id": "72718ecb",
   "metadata": {},
   "outputs": [],
   "source": []
  }
 ],
 "metadata": {
  "kernelspec": {
   "display_name": "Python 3 (ipykernel)",
   "language": "python",
   "name": "python3"
  },
  "language_info": {
   "codemirror_mode": {
    "name": "ipython",
    "version": 3
   },
   "file_extension": ".py",
   "mimetype": "text/x-python",
   "name": "python",
   "nbconvert_exporter": "python",
   "pygments_lexer": "ipython3",
   "version": "3.11.5"
  }
 },
 "nbformat": 4,
 "nbformat_minor": 5
}
