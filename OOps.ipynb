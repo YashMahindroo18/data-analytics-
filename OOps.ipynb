{
 "cells": [
  {
   "cell_type": "markdown",
   "id": "d6df4bd6",
   "metadata": {},
   "source": [
    "## Object Oriented Programming\n",
    "### objects and classes\n",
    "### inheritance\n",
    "### Encapsulation\n",
    "### Abstract Classes"
   ]
  },
  {
   "cell_type": "code",
   "execution_count": 7,
   "id": "5e86c6c0",
   "metadata": {},
   "outputs": [],
   "source": [
    "class person:\n",
    "    def say_hi(self):\n",
    "        print(\"hi\")\n",
    "    def say_bye(self):\n",
    "        print(\"bye\")"
   ]
  },
  {
   "cell_type": "code",
   "execution_count": 8,
   "id": "a48ea0df",
   "metadata": {},
   "outputs": [],
   "source": [
    "p= person()"
   ]
  },
  {
   "cell_type": "code",
   "execution_count": 3,
   "id": "fce56ff0",
   "metadata": {},
   "outputs": [
    {
     "name": "stdout",
     "output_type": "stream",
     "text": [
      "hi\n"
     ]
    }
   ],
   "source": [
    "p.say_hi()"
   ]
  },
  {
   "cell_type": "code",
   "execution_count": 9,
   "id": "d3954dbd",
   "metadata": {},
   "outputs": [
    {
     "name": "stdout",
     "output_type": "stream",
     "text": [
      "bye\n"
     ]
    }
   ],
   "source": [
    "p.say_bye()"
   ]
  },
  {
   "cell_type": "code",
   "execution_count": 10,
   "id": "dc528f42",
   "metadata": {},
   "outputs": [
    {
     "name": "stdout",
     "output_type": "stream",
     "text": [
      "<__main__.person object at 0x00000150EE1B9890>\n"
     ]
    }
   ],
   "source": [
    "print(p)"
   ]
  },
  {
   "cell_type": "code",
   "execution_count": 46,
   "id": "f151f533",
   "metadata": {},
   "outputs": [],
   "source": [
    "class person2:\n",
    "    def __init__(self,name,age):\n",
    "        self.name=name\n",
    "        self.age=age\n",
    "        print(\"an object is created\")\n",
    "    def say_hi(self):\n",
    "        print(\"my name is {} and i am {} year sold\".format(self.name,self.age))"
   ]
  },
  {
   "cell_type": "code",
   "execution_count": 43,
   "id": "5c23e971",
   "metadata": {},
   "outputs": [
    {
     "name": "stdout",
     "output_type": "stream",
     "text": [
      "an object is created\n"
     ]
    }
   ],
   "source": [
    "s=person2(\"harry\",15)"
   ]
  },
  {
   "cell_type": "code",
   "execution_count": 44,
   "id": "fe29543e",
   "metadata": {},
   "outputs": [
    {
     "name": "stdout",
     "output_type": "stream",
     "text": [
      "my age is harry and i am 15 year sold\n"
     ]
    }
   ],
   "source": [
    "s.say_hi()"
   ]
  },
  {
   "cell_type": "code",
   "execution_count": 47,
   "id": "36adbb6a",
   "metadata": {},
   "outputs": [
    {
     "name": "stdout",
     "output_type": "stream",
     "text": [
      "an object is created\n",
      "my name is yash and i am 18 year sold\n"
     ]
    }
   ],
   "source": [
    "q=person2(\"yash\",18)\n",
    "q.say_hi()"
   ]
  },
  {
   "cell_type": "markdown",
   "id": "74afe761",
   "metadata": {},
   "source": [
    "# Inheritance -->one calss to another"
   ]
  },
  {
   "cell_type": "code",
   "execution_count": 54,
   "id": "4d22e511",
   "metadata": {},
   "outputs": [],
   "source": [
    "class school:\n",
    "    def __init__(self,name,age):\n",
    "        self.name=name\n",
    "        self.age=age\n",
    "        print(\"school member\",self.name)\n",
    "    def tell(self):\n",
    "        print(\"name:{} age :{}\".format(self.name,self.age),end=\" \")"
   ]
  },
  {
   "cell_type": "code",
   "execution_count": 49,
   "id": "c0d6129c",
   "metadata": {},
   "outputs": [],
   "source": [
    "class teacher(school):\n",
    "    def __init__(self,name,age,salary):\n",
    "        school.__init__(self,name,age)\n",
    "        self.salary=salary\n",
    "        print(\"initialised teacher\",self.name)\n",
    "    def tell(self):\n",
    "        school.tell(self)\n",
    "        print(\"salary {}\".format(self.salary))"
   ]
  },
  {
   "cell_type": "code",
   "execution_count": 52,
   "id": "b60bab59",
   "metadata": {},
   "outputs": [
    {
     "name": "stdout",
     "output_type": "stream",
     "text": [
      "school member raj\n",
      "initialised teacher raj\n"
     ]
    }
   ],
   "source": [
    "t=teacher(\"raj\",34,45000)"
   ]
  },
  {
   "cell_type": "code",
   "execution_count": 55,
   "id": "d8eb8fad",
   "metadata": {},
   "outputs": [
    {
     "name": "stdout",
     "output_type": "stream",
     "text": [
      "name:raj age :34 salary 45000\n"
     ]
    }
   ],
   "source": [
    "t.tell()"
   ]
  },
  {
   "cell_type": "code",
   "execution_count": 58,
   "id": "6bd5320e",
   "metadata": {},
   "outputs": [],
   "source": [
    "class student(school):\n",
    "    def __init__(self,name,age,grade):\n",
    "        school.__init__(self,name,age)\n",
    "        self.grade=grade\n",
    "    def tell(self):\n",
    "        school.tell(self)\n",
    "        print(\"grade is \",self.grade)\n",
    "        "
   ]
  },
  {
   "cell_type": "code",
   "execution_count": 59,
   "id": "f16444cb",
   "metadata": {},
   "outputs": [
    {
     "name": "stdout",
     "output_type": "stream",
     "text": [
      "school member yash\n",
      "name:yash age :12 grade is  A\n"
     ]
    }
   ],
   "source": [
    "r=student(\"yash\",12,\"A\")\n",
    "r.tell()"
   ]
  },
  {
   "cell_type": "markdown",
   "id": "2594b753",
   "metadata": {},
   "source": [
    "## Encapsulation"
   ]
  },
  {
   "cell_type": "code",
   "execution_count": 60,
   "id": "45d95385",
   "metadata": {},
   "outputs": [],
   "source": [
    "class robot:\n",
    "    def __init__(self):\n",
    "        self.a=123\n",
    "        self.b=987\n",
    "        self.c=678\n",
    "r1=robot()\n",
    "    "
   ]
  },
  {
   "cell_type": "code",
   "execution_count": 61,
   "id": "8a6ff982",
   "metadata": {},
   "outputs": [
    {
     "data": {
      "text/plain": [
       "123"
      ]
     },
     "execution_count": 61,
     "metadata": {},
     "output_type": "execute_result"
    }
   ],
   "source": [
    "r1.a"
   ]
  },
  {
   "cell_type": "code",
   "execution_count": 64,
   "id": "fe14bf98",
   "metadata": {},
   "outputs": [
    {
     "ename": "AttributeError",
     "evalue": "'robot' object has no attribute '_a'",
     "output_type": "error",
     "traceback": [
      "\u001b[1;31m---------------------------------------------------------------------------\u001b[0m",
      "\u001b[1;31mAttributeError\u001b[0m                            Traceback (most recent call last)",
      "Cell \u001b[1;32mIn[64], line 1\u001b[0m\n\u001b[1;32m----> 1\u001b[0m r1\u001b[38;5;241m.\u001b[39m_a\n",
      "\u001b[1;31mAttributeError\u001b[0m: 'robot' object has no attribute '_a'"
     ]
    }
   ],
   "source": [
    "r1._a"
   ]
  },
  {
   "cell_type": "markdown",
   "id": "d03675be",
   "metadata": {},
   "source": [
    "# getter and setter"
   ]
  },
  {
   "cell_type": "code",
   "execution_count": 68,
   "id": "884903f7",
   "metadata": {},
   "outputs": [],
   "source": [
    "class Robot:\n",
    "    def __init__(self):\n",
    "        self.v=98\n",
    "    def getv(self):\n",
    "        print(self.__v)\n",
    "    def setv(self):\n",
    "        self.__v=v\n",
    "r2=Robot()"
   ]
  },
  {
   "cell_type": "code",
   "execution_count": 66,
   "id": "4a2d609e",
   "metadata": {},
   "outputs": [
    {
     "ename": "AttributeError",
     "evalue": "'robot' object has no attribute '__V'",
     "output_type": "error",
     "traceback": [
      "\u001b[1;31m---------------------------------------------------------------------------\u001b[0m",
      "\u001b[1;31mAttributeError\u001b[0m                            Traceback (most recent call last)",
      "Cell \u001b[1;32mIn[66], line 1\u001b[0m\n\u001b[1;32m----> 1\u001b[0m r2\u001b[38;5;241m.\u001b[39m__V\n",
      "\u001b[1;31mAttributeError\u001b[0m: 'robot' object has no attribute '__V'"
     ]
    }
   ],
   "source": [
    "r2.__V"
   ]
  },
  {
   "cell_type": "code",
   "execution_count": 69,
   "id": "a21ab50a",
   "metadata": {},
   "outputs": [
    {
     "ename": "AttributeError",
     "evalue": "'Robot' object has no attribute '_Robot__v'",
     "output_type": "error",
     "traceback": [
      "\u001b[1;31m---------------------------------------------------------------------------\u001b[0m",
      "\u001b[1;31mAttributeError\u001b[0m                            Traceback (most recent call last)",
      "Cell \u001b[1;32mIn[69], line 1\u001b[0m\n\u001b[1;32m----> 1\u001b[0m r2\u001b[38;5;241m.\u001b[39mgetv()\n",
      "Cell \u001b[1;32mIn[68], line 5\u001b[0m, in \u001b[0;36mRobot.getv\u001b[1;34m(self)\u001b[0m\n\u001b[0;32m      4\u001b[0m \u001b[38;5;28;01mdef\u001b[39;00m \u001b[38;5;21mgetv\u001b[39m(\u001b[38;5;28mself\u001b[39m):\n\u001b[1;32m----> 5\u001b[0m     \u001b[38;5;28mprint\u001b[39m(\u001b[38;5;28mself\u001b[39m\u001b[38;5;241m.\u001b[39m__v)\n",
      "\u001b[1;31mAttributeError\u001b[0m: 'Robot' object has no attribute '_Robot__v'"
     ]
    }
   ],
   "source": [
    "r2.getv()"
   ]
  },
  {
   "cell_type": "code",
   "execution_count": null,
   "id": "f292ece9",
   "metadata": {},
   "outputs": [],
   "source": []
  }
 ],
 "metadata": {
  "kernelspec": {
   "display_name": "Python 3 (ipykernel)",
   "language": "python",
   "name": "python3"
  },
  "language_info": {
   "codemirror_mode": {
    "name": "ipython",
    "version": 3
   },
   "file_extension": ".py",
   "mimetype": "text/x-python",
   "name": "python",
   "nbconvert_exporter": "python",
   "pygments_lexer": "ipython3",
   "version": "3.11.5"
  }
 },
 "nbformat": 4,
 "nbformat_minor": 5
}
