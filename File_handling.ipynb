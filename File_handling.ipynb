{
 "cells": [
  {
   "cell_type": "code",
   "execution_count": 1,
   "id": "69b6450c",
   "metadata": {},
   "outputs": [],
   "source": [
    "def greeting(name):\n",
    "    print('Good Morning',name)"
   ]
  },
  {
   "cell_type": "code",
   "execution_count": 2,
   "id": "d39044a3",
   "metadata": {},
   "outputs": [],
   "source": [
    "def bye(name):\n",
    "    print(\"bye\",name)"
   ]
  },
  {
   "cell_type": "code",
   "execution_count": 3,
   "id": "8611faed",
   "metadata": {},
   "outputs": [
    {
     "name": "stdout",
     "output_type": "stream",
     "text": [
      "Good Morning yash\n",
      "bye pankaj\n"
     ]
    }
   ],
   "source": [
    "greeting(\"yash\")\n",
    "bye(\"pankaj\")"
   ]
  },
  {
   "cell_type": "code",
   "execution_count": 2,
   "id": "7168e48a",
   "metadata": {},
   "outputs": [],
   "source": [
    "f=open(\"pregrad_example_file.txt\",'r')"
   ]
  },
  {
   "cell_type": "code",
   "execution_count": 3,
   "id": "996f88a0",
   "metadata": {},
   "outputs": [
    {
     "name": "stdout",
     "output_type": "stream",
     "text": [
      "<_io.TextIOWrapper name='pregrad_example_file.txt' mode='r' encoding='cp1252'>\n"
     ]
    }
   ],
   "source": [
    "print(f)"
   ]
  },
  {
   "cell_type": "code",
   "execution_count": 4,
   "id": "72aa614c",
   "metadata": {},
   "outputs": [
    {
     "name": "stdout",
     "output_type": "stream",
     "text": [
      "<built-in method readlines of _io.TextIOWrapper object at 0x000001111472F6B0>\n"
     ]
    }
   ],
   "source": [
    "print(f.readlines)"
   ]
  },
  {
   "cell_type": "code",
   "execution_count": 5,
   "id": "505fb3f7",
   "metadata": {},
   "outputs": [
    {
     "data": {
      "text/plain": [
       "<function TextIOWrapper.close()>"
      ]
     },
     "execution_count": 5,
     "metadata": {},
     "output_type": "execute_result"
    }
   ],
   "source": [
    "f.close"
   ]
  },
  {
   "cell_type": "code",
   "execution_count": 10,
   "id": "e637b039",
   "metadata": {},
   "outputs": [
    {
     "ename": "NameError",
     "evalue": "name 'pregrad_example_file' is not defined",
     "output_type": "error",
     "traceback": [
      "\u001b[1;31m---------------------------------------------------------------------------\u001b[0m",
      "\u001b[1;31mNameError\u001b[0m                                 Traceback (most recent call last)",
      "Cell \u001b[1;32mIn[10], line 2\u001b[0m\n\u001b[0;32m      1\u001b[0m \u001b[38;5;28;01mwith\u001b[39;00m \u001b[38;5;28mopen\u001b[39m(\u001b[38;5;124m'\u001b[39m\u001b[38;5;124mnewfile2.txt\u001b[39m\u001b[38;5;124m'\u001b[39m,\u001b[38;5;124m'\u001b[39m\u001b[38;5;124mx\u001b[39m\u001b[38;5;124m'\u001b[39m) \u001b[38;5;28;01mas\u001b[39;00m file:\n\u001b[1;32m----> 2\u001b[0m     pregrad_example_file\u001b[38;5;241m.\u001b[39mtxt\u001b[38;5;241m.\u001b[39mwrite(\u001b[38;5;124m'\u001b[39m\u001b[38;5;124mthis is line 0\u001b[39m\u001b[38;5;130;01m\\n\u001b[39;00m\u001b[38;5;124m'\u001b[39m)\n\u001b[0;32m      3\u001b[0m     pregrad_example_file\u001b[38;5;241m.\u001b[39mtxt\u001b[38;5;241m.\u001b[39mwrite(\u001b[38;5;124m'\u001b[39m\u001b[38;5;124mthis is line 1/n\u001b[39m\u001b[38;5;124m'\u001b[39m)\n",
      "\u001b[1;31mNameError\u001b[0m: name 'pregrad_example_file' is not defined"
     ]
    }
   ],
   "source": [
    "with open('newfile2.txt','x') as file:\n",
    "    pregrad_example_file.txt.write('this is line 0\\n')\n",
    "    pregrad_example_file.txt.write('this is line 1/n')"
   ]
  },
  {
   "cell_type": "code",
   "execution_count": null,
   "id": "6e763ac7",
   "metadata": {},
   "outputs": [],
   "source": []
  }
 ],
 "metadata": {
  "kernelspec": {
   "display_name": "Python 3 (ipykernel)",
   "language": "python",
   "name": "python3"
  },
  "language_info": {
   "codemirror_mode": {
    "name": "ipython",
    "version": 3
   },
   "file_extension": ".py",
   "mimetype": "text/x-python",
   "name": "python",
   "nbconvert_exporter": "python",
   "pygments_lexer": "ipython3",
   "version": "3.11.5"
  }
 },
 "nbformat": 4,
 "nbformat_minor": 5
}
