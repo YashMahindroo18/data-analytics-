{
 "cells": [
  {
   "cell_type": "code",
   "execution_count": 1,
   "id": "6be36b55",
   "metadata": {},
   "outputs": [
    {
     "name": "stdout",
     "output_type": "stream",
     "text": [
      "this is a long dtring and supports multiline statements as well\n"
     ]
    }
   ],
   "source": [
    "name='yash'\n",
    "name2=\"mahindroo\"\n",
    "name3=\"\"\"this is a long dtring and supports multiline statements as well\"\"\"\n",
    "print(name3)"
   ]
  },
  {
   "cell_type": "code",
   "execution_count": 3,
   "id": "9772f3b6",
   "metadata": {},
   "outputs": [
    {
     "name": "stdout",
     "output_type": "stream",
     "text": [
      "hello, welcome to the world of 'python'\n"
     ]
    }
   ],
   "source": [
    "name4=\"hello, welcome to the world of 'python'\"\n",
    "print(name4)"
   ]
  },
  {
   "cell_type": "markdown",
   "id": "a442d4b9",
   "metadata": {},
   "source": [
    "# String concatination\n"
   ]
  },
  {
   "cell_type": "code",
   "execution_count": 8,
   "id": "736a573a",
   "metadata": {},
   "outputs": [
    {
     "name": "stdout",
     "output_type": "stream",
     "text": [
      "harry potter\n",
      "12\n"
     ]
    }
   ],
   "source": [
    "name=\"harry\"\n",
    "last_name=\"potter\"\n",
    "full=name+\" \"+last_name\n",
    "print(name +\" \"+last_name)\n",
    "print(len(full))"
   ]
  },
  {
   "cell_type": "code",
   "execution_count": 1,
   "id": "6d97a271",
   "metadata": {},
   "outputs": [
    {
     "ename": "NameError",
     "evalue": "name 'name' is not defined",
     "output_type": "error",
     "traceback": [
      "\u001b[1;31m---------------------------------------------------------------------------\u001b[0m",
      "\u001b[1;31mNameError\u001b[0m                                 Traceback (most recent call last)",
      "Cell \u001b[1;32mIn[1], line 1\u001b[0m\n\u001b[1;32m----> 1\u001b[0m \u001b[38;5;28mprint\u001b[39m(name\u001b[38;5;241m*\u001b[39m\u001b[38;5;241m9\u001b[39m)\n",
      "\u001b[1;31mNameError\u001b[0m: name 'name' is not defined"
     ]
    }
   ],
   "source": [
    "print(name*9)"
   ]
  },
  {
   "cell_type": "code",
   "execution_count": 2,
   "id": "9abc93f3",
   "metadata": {},
   "outputs": [
    {
     "name": "stdout",
     "output_type": "stream",
     "text": [
      "yashyashyashyashyashyashyashyashyash\n"
     ]
    }
   ],
   "source": [
    "name=\"yash\"\n",
    "print(name*9)"
   ]
  },
  {
   "cell_type": "markdown",
   "id": "5065394a",
   "metadata": {},
   "source": [
    "# Indexing\n"
   ]
  },
  {
   "cell_type": "code",
   "execution_count": 5,
   "id": "5c6847d1",
   "metadata": {},
   "outputs": [
    {
     "data": {
      "text/plain": [
       "'abc'"
      ]
     },
     "execution_count": 5,
     "metadata": {},
     "output_type": "execute_result"
    }
   ],
   "source": [
    "s=\"abc\"\n",
    "s"
   ]
  },
  {
   "cell_type": "code",
   "execution_count": 6,
   "id": "9692d068",
   "metadata": {},
   "outputs": [
    {
     "data": {
      "text/plain": [
       "'b'"
      ]
     },
     "execution_count": 6,
     "metadata": {},
     "output_type": "execute_result"
    }
   ],
   "source": [
    "s[1]"
   ]
  },
  {
   "cell_type": "code",
   "execution_count": 7,
   "id": "52d77e18",
   "metadata": {},
   "outputs": [
    {
     "data": {
      "text/plain": [
       "'c'"
      ]
     },
     "execution_count": 7,
     "metadata": {},
     "output_type": "execute_result"
    }
   ],
   "source": [
    "s[-1]"
   ]
  },
  {
   "cell_type": "code",
   "execution_count": 8,
   "id": "49137d28",
   "metadata": {},
   "outputs": [
    {
     "data": {
      "text/plain": [
       "'b'"
      ]
     },
     "execution_count": 8,
     "metadata": {},
     "output_type": "execute_result"
    }
   ],
   "source": [
    "s[1]"
   ]
  },
  {
   "cell_type": "code",
   "execution_count": 9,
   "id": "2f26ae55",
   "metadata": {},
   "outputs": [
    {
     "data": {
      "text/plain": [
       "'b'"
      ]
     },
     "execution_count": 9,
     "metadata": {},
     "output_type": "execute_result"
    }
   ],
   "source": [
    "s[-2]"
   ]
  },
  {
   "cell_type": "code",
   "execution_count": 10,
   "id": "81ed17c9",
   "metadata": {},
   "outputs": [
    {
     "data": {
      "text/plain": [
       "'a'"
      ]
     },
     "execution_count": 10,
     "metadata": {},
     "output_type": "execute_result"
    }
   ],
   "source": [
    "s[-3]"
   ]
  },
  {
   "cell_type": "code",
   "execution_count": 12,
   "id": "043efae1",
   "metadata": {},
   "outputs": [
    {
     "data": {
      "text/plain": [
       "'a'"
      ]
     },
     "execution_count": 12,
     "metadata": {},
     "output_type": "execute_result"
    }
   ],
   "source": [
    "s[-3]"
   ]
  },
  {
   "cell_type": "code",
   "execution_count": 16,
   "id": "d294e051",
   "metadata": {},
   "outputs": [
    {
     "data": {
      "text/plain": [
       "'ac'"
      ]
     },
     "execution_count": 16,
     "metadata": {},
     "output_type": "execute_result"
    }
   ],
   "source": [
    "s[0:3:2]"
   ]
  },
  {
   "cell_type": "markdown",
   "id": "98b9e5db",
   "metadata": {},
   "source": []
  },
  {
   "cell_type": "code",
   "execution_count": 17,
   "id": "7107d673",
   "metadata": {},
   "outputs": [],
   "source": [
    "s=\"abcdefgh\"\n"
   ]
  },
  {
   "cell_type": "code",
   "execution_count": 18,
   "id": "7edde37a",
   "metadata": {},
   "outputs": [
    {
     "name": "stdout",
     "output_type": "stream",
     "text": [
      "T\n"
     ]
    }
   ],
   "source": [
    "d=\"This is one sentence\"\n",
    "print(d[0])"
   ]
  },
  {
   "cell_type": "code",
   "execution_count": 20,
   "id": "36bdbdea",
   "metadata": {},
   "outputs": [
    {
     "data": {
      "text/plain": [
       "8"
      ]
     },
     "execution_count": 20,
     "metadata": {},
     "output_type": "execute_result"
    }
   ],
   "source": [
    "d.index(\"o\")"
   ]
  },
  {
   "cell_type": "markdown",
   "id": "52f017b3",
   "metadata": {},
   "source": [
    "d[8:12]"
   ]
  },
  {
   "cell_type": "code",
   "execution_count": 21,
   "id": "e3d3b41f",
   "metadata": {},
   "outputs": [
    {
     "name": "stdout",
     "output_type": "stream",
     "text": [
      "one \n"
     ]
    }
   ],
   "source": [
    "print(d[8:12])"
   ]
  },
  {
   "cell_type": "code",
   "execution_count": 22,
   "id": "5e3f4c9f",
   "metadata": {},
   "outputs": [],
   "source": [
    "s='hello'\n"
   ]
  },
  {
   "cell_type": "code",
   "execution_count": 24,
   "id": "f9d7c57a",
   "metadata": {},
   "outputs": [
    {
     "name": "stdout",
     "output_type": "stream",
     "text": [
      "yellow\n"
     ]
    }
   ],
   "source": [
    "s=\"y\"+s[1:len(s)]+\"w\"\n",
    "print(s)"
   ]
  },
  {
   "cell_type": "code",
   "execution_count": 25,
   "id": "51445a50",
   "metadata": {},
   "outputs": [
    {
     "data": {
      "text/plain": [
       "[2, 3, 4, 5, 6, 'yash', 'pregrad']"
      ]
     },
     "execution_count": 25,
     "metadata": {},
     "output_type": "execute_result"
    }
   ],
   "source": [
    "lst=[2,3,4,5,6,\"yash\",\"pregrad\"]\n",
    "lst"
   ]
  },
  {
   "cell_type": "code",
   "execution_count": 27,
   "id": "c3c82b9e",
   "metadata": {},
   "outputs": [
    {
     "data": {
      "text/plain": [
       "[2, 3, 4, 5, 6, 'yash', 'jerry']"
      ]
     },
     "execution_count": 27,
     "metadata": {},
     "output_type": "execute_result"
    }
   ],
   "source": [
    "\n",
    "lst[6]=\"jerry\"\n",
    "lst\n"
   ]
  },
  {
   "cell_type": "code",
   "execution_count": 33,
   "id": "62dcc25f",
   "metadata": {},
   "outputs": [
    {
     "data": {
      "text/plain": [
       "['orange', 'banana']"
      ]
     },
     "execution_count": 33,
     "metadata": {},
     "output_type": "execute_result"
    }
   ],
   "source": [
    "#create a grocery list\n",
    "GROCERY=[\"orange\",\"banana\",\"apple\",\"Butter\",\"pulses\"]\n",
    "GROCERY[0:2]"
   ]
  },
  {
   "cell_type": "code",
   "execution_count": 34,
   "id": "d53c45ef",
   "metadata": {},
   "outputs": [
    {
     "data": {
      "text/plain": [
       "['orange', 'apple', 'pulses']"
      ]
     },
     "execution_count": 34,
     "metadata": {},
     "output_type": "execute_result"
    }
   ],
   "source": [
    "GROCERY[::2]"
   ]
  },
  {
   "cell_type": "markdown",
   "id": "e8d33ad1",
   "metadata": {},
   "source": [
    "# Dictionaries"
   ]
  },
  {
   "cell_type": "code",
   "execution_count": 1,
   "id": "2349ce2b",
   "metadata": {},
   "outputs": [
    {
     "name": "stdout",
     "output_type": "stream",
     "text": [
      "{'brand': 'ford', 'model': 'Mustang', 'year': 1964}\n"
     ]
    }
   ],
   "source": [
    "car_model={\n",
    "    \"brand\":\"ford\",\n",
    "    \"model\":\"Mustang\",\n",
    "    \"year\":1964\n",
    "}\n",
    "print(car_model)"
   ]
  },
  {
   "cell_type": "markdown",
   "id": "f5d35657",
   "metadata": {},
   "source": [
    "# dict constructor"
   ]
  },
  {
   "cell_type": "code",
   "execution_count": 2,
   "id": "23e48d5c",
   "metadata": {},
   "outputs": [
    {
     "data": {
      "text/plain": [
       "{'brand': 'tesla', 'model': 'x', 'year': '2020'}"
      ]
     },
     "execution_count": 2,
     "metadata": {},
     "output_type": "execute_result"
    }
   ],
   "source": [
    "car_info=dict(brand=\"tesla\",model=\"x\",year=\"2020\")\n",
    "car_info"
   ]
  },
  {
   "cell_type": "code",
   "execution_count": 3,
   "id": "a2e75847",
   "metadata": {},
   "outputs": [
    {
     "name": "stdout",
     "output_type": "stream",
     "text": [
      "x\n"
     ]
    }
   ],
   "source": [
    "value=car_info[\"model\"]\n",
    "print(value)"
   ]
  },
  {
   "cell_type": "code",
   "execution_count": 4,
   "id": "b974e8f4",
   "metadata": {},
   "outputs": [
    {
     "data": {
      "text/plain": [
       "'x'"
      ]
     },
     "execution_count": 4,
     "metadata": {},
     "output_type": "execute_result"
    }
   ],
   "source": [
    "car_info.get(\"model\")"
   ]
  },
  {
   "cell_type": "code",
   "execution_count": 5,
   "id": "f61de73f",
   "metadata": {},
   "outputs": [
    {
     "data": {
      "text/plain": [
       "{'brand': 'tesla', 'model': 'x', 'year': 2019}"
      ]
     },
     "execution_count": 5,
     "metadata": {},
     "output_type": "execute_result"
    }
   ],
   "source": [
    "car_info['year']=2019\n",
    "car_info"
   ]
  },
  {
   "cell_type": "code",
   "execution_count": 8,
   "id": "90a3ff54",
   "metadata": {},
   "outputs": [
    {
     "name": "stdout",
     "output_type": "stream",
     "text": [
      "tesla\n",
      "x\n",
      "2019\n"
     ]
    }
   ],
   "source": [
    "for i in car_info:\n",
    "    print(car_info[i])"
   ]
  },
  {
   "cell_type": "code",
   "execution_count": 11,
   "id": "fcdd8bd8",
   "metadata": {},
   "outputs": [
    {
     "name": "stdout",
     "output_type": "stream",
     "text": [
      "tesla\n",
      "x\n",
      "2019\n"
     ]
    }
   ],
   "source": [
    "for x in car_info.values():\n",
    "    print(x)"
   ]
  },
  {
   "cell_type": "code",
   "execution_count": 12,
   "id": "6ad21893",
   "metadata": {},
   "outputs": [
    {
     "name": "stdout",
     "output_type": "stream",
     "text": [
      "('brand', 'tesla')\n",
      "('model', 'x')\n",
      "('year', 2019)\n"
     ]
    }
   ],
   "source": [
    "for f in car_info.items():\n",
    "    print(f)"
   ]
  },
  {
   "cell_type": "code",
   "execution_count": 13,
   "id": "778e936c",
   "metadata": {},
   "outputs": [
    {
     "name": "stdout",
     "output_type": "stream",
     "text": [
      "brand tesla\n",
      "model x\n",
      "year 2019\n"
     ]
    }
   ],
   "source": [
    "for key,value in car_info.items():\n",
    "    print(key,value)"
   ]
  },
  {
   "cell_type": "code",
   "execution_count": 14,
   "id": "725a9534",
   "metadata": {},
   "outputs": [
    {
     "name": "stdout",
     "output_type": "stream",
     "text": [
      "available\n"
     ]
    }
   ],
   "source": [
    "if \"brand\" in car_info:\n",
    "    print(\"available\")"
   ]
  },
  {
   "cell_type": "code",
   "execution_count": 15,
   "id": "b4094810",
   "metadata": {},
   "outputs": [
    {
     "data": {
      "text/plain": [
       "{'brand': 'tesla', 'model': 'x', 'year': 2019}"
      ]
     },
     "execution_count": 15,
     "metadata": {},
     "output_type": "execute_result"
    }
   ],
   "source": [
    "car_info"
   ]
  },
  {
   "cell_type": "code",
   "execution_count": 16,
   "id": "932a99d7",
   "metadata": {},
   "outputs": [],
   "source": [
    "car_info['color']='red'"
   ]
  },
  {
   "cell_type": "code",
   "execution_count": 17,
   "id": "c4e98037",
   "metadata": {},
   "outputs": [
    {
     "data": {
      "text/plain": [
       "{'brand': 'tesla', 'model': 'x', 'year': 2019, 'color': 'red'}"
      ]
     },
     "execution_count": 17,
     "metadata": {},
     "output_type": "execute_result"
    }
   ],
   "source": [
    "car_info"
   ]
  },
  {
   "cell_type": "code",
   "execution_count": 18,
   "id": "a70276d3",
   "metadata": {},
   "outputs": [
    {
     "data": {
      "text/plain": [
       "2019"
      ]
     },
     "execution_count": 18,
     "metadata": {},
     "output_type": "execute_result"
    }
   ],
   "source": [
    "car_info.pop(\"year\")"
   ]
  },
  {
   "cell_type": "code",
   "execution_count": 19,
   "id": "56fff726",
   "metadata": {},
   "outputs": [
    {
     "data": {
      "text/plain": [
       "{'brand': 'tesla', 'model': 'x', 'color': 'red'}"
      ]
     },
     "execution_count": 19,
     "metadata": {},
     "output_type": "execute_result"
    }
   ],
   "source": [
    "car_info"
   ]
  },
  {
   "cell_type": "code",
   "execution_count": 20,
   "id": "fb6b3f55",
   "metadata": {},
   "outputs": [
    {
     "data": {
      "text/plain": [
       "{'brand': 'ford', 'model': 'Mustang', 'year': 1964}"
      ]
     },
     "execution_count": 20,
     "metadata": {},
     "output_type": "execute_result"
    }
   ],
   "source": [
    "car_model"
   ]
  },
  {
   "cell_type": "code",
   "execution_count": 21,
   "id": "9a988946",
   "metadata": {},
   "outputs": [],
   "source": [
    "del car_model['model']"
   ]
  },
  {
   "cell_type": "code",
   "execution_count": 22,
   "id": "02262bda",
   "metadata": {},
   "outputs": [
    {
     "data": {
      "text/plain": [
       "{'brand': 'ford', 'year': 1964}"
      ]
     },
     "execution_count": 22,
     "metadata": {},
     "output_type": "execute_result"
    }
   ],
   "source": [
    "car_model"
   ]
  },
  {
   "cell_type": "code",
   "execution_count": 23,
   "id": "b150881e",
   "metadata": {},
   "outputs": [],
   "source": [
    "new_car=car_model.copy()"
   ]
  },
  {
   "cell_type": "code",
   "execution_count": 24,
   "id": "f754faec",
   "metadata": {},
   "outputs": [
    {
     "data": {
      "text/plain": [
       "{'brand': 'ford', 'year': 1964}"
      ]
     },
     "execution_count": 24,
     "metadata": {},
     "output_type": "execute_result"
    }
   ],
   "source": [
    "new_car"
   ]
  },
  {
   "cell_type": "code",
   "execution_count": 30,
   "id": "c6b8942b",
   "metadata": {},
   "outputs": [
    {
     "data": {
      "text/plain": [
       "{'child': {'name': 'yash', 'age': 18}, 'child2': {'name': 'harry', 'age': 19}}"
      ]
     },
     "execution_count": 30,
     "metadata": {},
     "output_type": "execute_result"
    }
   ],
   "source": [
    "family={\n",
    "    \"child\":{\n",
    "        \"name\":\"yash\",\n",
    "        \"age\":18\n",
    "    },\n",
    "    \"child2\":{\n",
    "        \"name\":\"harry\",\n",
    "        \"age\":19\n",
    "    }\n",
    "}\n",
    "family"
   ]
  },
  {
   "cell_type": "code",
   "execution_count": null,
   "id": "6393f44b",
   "metadata": {},
   "outputs": [],
   "source": []
  }
 ],
 "metadata": {
  "kernelspec": {
   "display_name": "Python 3 (ipykernel)",
   "language": "python",
   "name": "python3"
  },
  "language_info": {
   "codemirror_mode": {
    "name": "ipython",
    "version": 3
   },
   "file_extension": ".py",
   "mimetype": "text/x-python",
   "name": "python",
   "nbconvert_exporter": "python",
   "pygments_lexer": "ipython3",
   "version": "3.11.5"
  }
 },
 "nbformat": 4,
 "nbformat_minor": 5
}
