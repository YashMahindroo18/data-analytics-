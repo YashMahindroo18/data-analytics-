{
 "cells": [
  {
   "cell_type": "code",
   "execution_count": 4,
   "id": "80519e9c",
   "metadata": {},
   "outputs": [],
   "source": [
    "import pandas as pd"
   ]
  },
  {
   "cell_type": "code",
   "execution_count": 5,
   "id": "155c1118",
   "metadata": {},
   "outputs": [
    {
     "name": "stdout",
     "output_type": "stream",
     "text": [
      "     age  education-num  race  sex  capital-gain  capital-loss  \\\n",
      "0     39             13     4    1          2174             0   \n",
      "1     50             13     4    1             0             0   \n",
      "2     38              9     4    1             0             0   \n",
      "3     53              7     2    1             0             0   \n",
      "4     28             13     2    0             0             0   \n",
      "..   ...            ...   ...  ...           ...           ...   \n",
      "995   56              9     4    1             0             0   \n",
      "996   45             14     4    1             0             0   \n",
      "997   48             13     4    1             0             0   \n",
      "998   40             10     4    1          2580             0   \n",
      "999   39             13     4    1         15024             0   \n",
      "\n",
      "     hours-per-week  income  \n",
      "0                40       0  \n",
      "1                13       0  \n",
      "2                40       0  \n",
      "3                40       0  \n",
      "4                40       0  \n",
      "..              ...     ...  \n",
      "995              55       1  \n",
      "996              45       0  \n",
      "997              58       1  \n",
      "998              40       0  \n",
      "999              50       1  \n",
      "\n",
      "[1000 rows x 8 columns]\n"
     ]
    }
   ],
   "source": [
    "data=pd.read_csv(\"MakeSenseOfCensus.csv\")\n",
    "print(data)"
   ]
  },
  {
   "cell_type": "code",
   "execution_count": 4,
   "id": "86bd0fb7",
   "metadata": {},
   "outputs": [
    {
     "name": "stdout",
     "output_type": "stream",
     "text": [
      "<class 'pandas.core.frame.DataFrame'>\n",
      "RangeIndex: 1000 entries, 0 to 999\n",
      "Data columns (total 8 columns):\n",
      " #   Column          Non-Null Count  Dtype\n",
      "---  ------          --------------  -----\n",
      " 0   age             1000 non-null   int64\n",
      " 1   education-num   1000 non-null   int64\n",
      " 2   race            1000 non-null   int64\n",
      " 3   sex             1000 non-null   int64\n",
      " 4   capital-gain    1000 non-null   int64\n",
      " 5   capital-loss    1000 non-null   int64\n",
      " 6   hours-per-week  1000 non-null   int64\n",
      " 7   income          1000 non-null   int64\n",
      "dtypes: int64(8)\n",
      "memory usage: 62.6 KB\n"
     ]
    }
   ],
   "source": [
    "data.info()"
   ]
  },
  {
   "cell_type": "code",
   "execution_count": 7,
   "id": "b14f01ff",
   "metadata": {},
   "outputs": [
    {
     "data": {
      "text/html": [
       "<div>\n",
       "<style scoped>\n",
       "    .dataframe tbody tr th:only-of-type {\n",
       "        vertical-align: middle;\n",
       "    }\n",
       "\n",
       "    .dataframe tbody tr th {\n",
       "        vertical-align: top;\n",
       "    }\n",
       "\n",
       "    .dataframe thead th {\n",
       "        text-align: right;\n",
       "    }\n",
       "</style>\n",
       "<table border=\"1\" class=\"dataframe\">\n",
       "  <thead>\n",
       "    <tr style=\"text-align: right;\">\n",
       "      <th></th>\n",
       "      <th>age</th>\n",
       "      <th>education-num</th>\n",
       "      <th>race</th>\n",
       "      <th>sex</th>\n",
       "      <th>capital-gain</th>\n",
       "      <th>capital-loss</th>\n",
       "      <th>hours-per-week</th>\n",
       "      <th>income</th>\n",
       "    </tr>\n",
       "  </thead>\n",
       "  <tbody>\n",
       "    <tr>\n",
       "      <th>count</th>\n",
       "      <td>1000.00000</td>\n",
       "      <td>1000.000000</td>\n",
       "      <td>1000.000000</td>\n",
       "      <td>1000.000000</td>\n",
       "      <td>1000.000000</td>\n",
       "      <td>1000.000000</td>\n",
       "      <td>1000.000000</td>\n",
       "      <td>1000.00000</td>\n",
       "    </tr>\n",
       "    <tr>\n",
       "      <th>mean</th>\n",
       "      <td>38.05100</td>\n",
       "      <td>10.084000</td>\n",
       "      <td>3.653000</td>\n",
       "      <td>0.671000</td>\n",
       "      <td>588.526000</td>\n",
       "      <td>92.960000</td>\n",
       "      <td>39.876000</td>\n",
       "      <td>0.23200</td>\n",
       "    </tr>\n",
       "    <tr>\n",
       "      <th>std</th>\n",
       "      <td>13.34948</td>\n",
       "      <td>2.548615</td>\n",
       "      <td>0.854003</td>\n",
       "      <td>0.470085</td>\n",
       "      <td>2618.537515</td>\n",
       "      <td>412.442337</td>\n",
       "      <td>12.018114</td>\n",
       "      <td>0.42232</td>\n",
       "    </tr>\n",
       "    <tr>\n",
       "      <th>min</th>\n",
       "      <td>17.00000</td>\n",
       "      <td>1.000000</td>\n",
       "      <td>0.000000</td>\n",
       "      <td>0.000000</td>\n",
       "      <td>0.000000</td>\n",
       "      <td>0.000000</td>\n",
       "      <td>1.000000</td>\n",
       "      <td>0.00000</td>\n",
       "    </tr>\n",
       "    <tr>\n",
       "      <th>25%</th>\n",
       "      <td>28.00000</td>\n",
       "      <td>9.000000</td>\n",
       "      <td>4.000000</td>\n",
       "      <td>0.000000</td>\n",
       "      <td>0.000000</td>\n",
       "      <td>0.000000</td>\n",
       "      <td>40.000000</td>\n",
       "      <td>0.00000</td>\n",
       "    </tr>\n",
       "    <tr>\n",
       "      <th>50%</th>\n",
       "      <td>36.00000</td>\n",
       "      <td>10.000000</td>\n",
       "      <td>4.000000</td>\n",
       "      <td>1.000000</td>\n",
       "      <td>0.000000</td>\n",
       "      <td>0.000000</td>\n",
       "      <td>40.000000</td>\n",
       "      <td>0.00000</td>\n",
       "    </tr>\n",
       "    <tr>\n",
       "      <th>75%</th>\n",
       "      <td>46.00000</td>\n",
       "      <td>12.000000</td>\n",
       "      <td>4.000000</td>\n",
       "      <td>1.000000</td>\n",
       "      <td>0.000000</td>\n",
       "      <td>0.000000</td>\n",
       "      <td>45.000000</td>\n",
       "      <td>0.00000</td>\n",
       "    </tr>\n",
       "    <tr>\n",
       "      <th>max</th>\n",
       "      <td>90.00000</td>\n",
       "      <td>16.000000</td>\n",
       "      <td>4.000000</td>\n",
       "      <td>1.000000</td>\n",
       "      <td>34095.000000</td>\n",
       "      <td>2415.000000</td>\n",
       "      <td>99.000000</td>\n",
       "      <td>1.00000</td>\n",
       "    </tr>\n",
       "  </tbody>\n",
       "</table>\n",
       "</div>"
      ],
      "text/plain": [
       "              age  education-num         race          sex  capital-gain  \\\n",
       "count  1000.00000    1000.000000  1000.000000  1000.000000   1000.000000   \n",
       "mean     38.05100      10.084000     3.653000     0.671000    588.526000   \n",
       "std      13.34948       2.548615     0.854003     0.470085   2618.537515   \n",
       "min      17.00000       1.000000     0.000000     0.000000      0.000000   \n",
       "25%      28.00000       9.000000     4.000000     0.000000      0.000000   \n",
       "50%      36.00000      10.000000     4.000000     1.000000      0.000000   \n",
       "75%      46.00000      12.000000     4.000000     1.000000      0.000000   \n",
       "max      90.00000      16.000000     4.000000     1.000000  34095.000000   \n",
       "\n",
       "       capital-loss  hours-per-week      income  \n",
       "count   1000.000000     1000.000000  1000.00000  \n",
       "mean      92.960000       39.876000     0.23200  \n",
       "std      412.442337       12.018114     0.42232  \n",
       "min        0.000000        1.000000     0.00000  \n",
       "25%        0.000000       40.000000     0.00000  \n",
       "50%        0.000000       40.000000     0.00000  \n",
       "75%        0.000000       45.000000     0.00000  \n",
       "max     2415.000000       99.000000     1.00000  "
      ]
     },
     "execution_count": 7,
     "metadata": {},
     "output_type": "execute_result"
    }
   ],
   "source": [
    "data.describe()"
   ]
  },
  {
   "cell_type": "code",
   "execution_count": 9,
   "id": "e568654b",
   "metadata": {},
   "outputs": [
    {
     "data": {
      "text/plain": [
       "38.051"
      ]
     },
     "execution_count": 9,
     "metadata": {},
     "output_type": "execute_result"
    }
   ],
   "source": [
    "data.age.mean()"
   ]
  },
  {
   "cell_type": "code",
   "execution_count": 8,
   "id": "2ac167b5",
   "metadata": {},
   "outputs": [
    {
     "data": {
      "text/plain": [
       "count    1000.00000\n",
       "mean       38.05100\n",
       "std        13.34948\n",
       "min        17.00000\n",
       "25%        28.00000\n",
       "50%        36.00000\n",
       "75%        46.00000\n",
       "max        90.00000\n",
       "Name: age, dtype: float64"
      ]
     },
     "execution_count": 8,
     "metadata": {},
     "output_type": "execute_result"
    }
   ],
   "source": [
    "data.age.describe()"
   ]
  },
  {
   "cell_type": "code",
   "execution_count": 10,
   "id": "f056a52e",
   "metadata": {},
   "outputs": [
    {
     "data": {
      "text/plain": [
       "array([39, 50, 38, 53, 28, 37, 49, 52, 31, 42, 30, 23, 32, 40, 34, 25, 43,\n",
       "       54, 35, 59, 56, 19, 20, 45, 22, 48, 21, 24, 57, 44, 41, 29, 18, 47,\n",
       "       46, 36, 79, 27, 67, 33, 76, 17, 55, 61, 70, 64, 71, 68, 66, 51, 58,\n",
       "       26, 60, 90, 75, 65, 77, 62, 63, 80, 72, 74, 69, 73, 81, 78],\n",
       "      dtype=int64)"
      ]
     },
     "execution_count": 10,
     "metadata": {},
     "output_type": "execute_result"
    }
   ],
   "source": [
    "data.age.unique()"
   ]
  },
  {
   "cell_type": "code",
   "execution_count": 12,
   "id": "a8984486",
   "metadata": {},
   "outputs": [
    {
     "data": {
      "text/plain": [
       "66"
      ]
     },
     "execution_count": 12,
     "metadata": {},
     "output_type": "execute_result"
    }
   ],
   "source": [
    "data.age.nunique()"
   ]
  },
  {
   "cell_type": "code",
   "execution_count": 15,
   "id": "c6bf3bd6",
   "metadata": {},
   "outputs": [
    {
     "data": {
      "text/plain": [
       "age\n",
       "43    33\n",
       "31    33\n",
       "34    32\n",
       "23    30\n",
       "33    30\n",
       "      ..\n",
       "74     1\n",
       "69     1\n",
       "73     1\n",
       "81     1\n",
       "78     1\n",
       "Name: count, Length: 66, dtype: int64"
      ]
     },
     "execution_count": 15,
     "metadata": {},
     "output_type": "execute_result"
    }
   ],
   "source": [
    "data.age.value_counts()"
   ]
  },
  {
   "cell_type": "markdown",
   "id": "2578bf50",
   "metadata": {},
   "source": [
    "# Maps\n",
    "# Used for conversion of data from one type to another\n",
    "## there are two types\n",
    "- map()\n",
    "-apply()\n",
    "## both these methods do not modify the orignal database"
   ]
  },
  {
   "cell_type": "code",
   "execution_count": 6,
   "id": "59819c78",
   "metadata": {},
   "outputs": [],
   "source": [
    "mean=data.age.mean()"
   ]
  },
  {
   "cell_type": "code",
   "execution_count": 7,
   "id": "fc16fe97",
   "metadata": {},
   "outputs": [
    {
     "data": {
      "text/plain": [
       "0       0.949\n",
       "1      11.949\n",
       "2      -0.051\n",
       "3      14.949\n",
       "4     -10.051\n",
       "        ...  \n",
       "995    17.949\n",
       "996     6.949\n",
       "997     9.949\n",
       "998     1.949\n",
       "999     0.949\n",
       "Name: age, Length: 1000, dtype: float64"
      ]
     },
     "execution_count": 7,
     "metadata": {},
     "output_type": "execute_result"
    }
   ],
   "source": [
    "data.age.map(lambda curr_value:curr_value-mean)"
   ]
  },
  {
   "cell_type": "code",
   "execution_count": 8,
   "id": "f23111c0",
   "metadata": {},
   "outputs": [],
   "source": [
    "def row_lot(row):\n",
    "    data_lot_mean=data.age.mean()\n",
    "    row.age=row.age-data_lot_mean\n",
    "    return row"
   ]
  },
  {
   "cell_type": "code",
   "execution_count": 9,
   "id": "b6db1d20",
   "metadata": {},
   "outputs": [
    {
     "data": {
      "text/html": [
       "<div>\n",
       "<style scoped>\n",
       "    .dataframe tbody tr th:only-of-type {\n",
       "        vertical-align: middle;\n",
       "    }\n",
       "\n",
       "    .dataframe tbody tr th {\n",
       "        vertical-align: top;\n",
       "    }\n",
       "\n",
       "    .dataframe thead th {\n",
       "        text-align: right;\n",
       "    }\n",
       "</style>\n",
       "<table border=\"1\" class=\"dataframe\">\n",
       "  <thead>\n",
       "    <tr style=\"text-align: right;\">\n",
       "      <th></th>\n",
       "      <th>age</th>\n",
       "      <th>education-num</th>\n",
       "      <th>race</th>\n",
       "      <th>sex</th>\n",
       "      <th>capital-gain</th>\n",
       "      <th>capital-loss</th>\n",
       "      <th>hours-per-week</th>\n",
       "      <th>income</th>\n",
       "    </tr>\n",
       "  </thead>\n",
       "  <tbody>\n",
       "    <tr>\n",
       "      <th>0</th>\n",
       "      <td>0.949</td>\n",
       "      <td>13.0</td>\n",
       "      <td>4.0</td>\n",
       "      <td>1.0</td>\n",
       "      <td>2174.0</td>\n",
       "      <td>0.0</td>\n",
       "      <td>40.0</td>\n",
       "      <td>0.0</td>\n",
       "    </tr>\n",
       "    <tr>\n",
       "      <th>1</th>\n",
       "      <td>11.949</td>\n",
       "      <td>13.0</td>\n",
       "      <td>4.0</td>\n",
       "      <td>1.0</td>\n",
       "      <td>0.0</td>\n",
       "      <td>0.0</td>\n",
       "      <td>13.0</td>\n",
       "      <td>0.0</td>\n",
       "    </tr>\n",
       "    <tr>\n",
       "      <th>2</th>\n",
       "      <td>-0.051</td>\n",
       "      <td>9.0</td>\n",
       "      <td>4.0</td>\n",
       "      <td>1.0</td>\n",
       "      <td>0.0</td>\n",
       "      <td>0.0</td>\n",
       "      <td>40.0</td>\n",
       "      <td>0.0</td>\n",
       "    </tr>\n",
       "    <tr>\n",
       "      <th>3</th>\n",
       "      <td>14.949</td>\n",
       "      <td>7.0</td>\n",
       "      <td>2.0</td>\n",
       "      <td>1.0</td>\n",
       "      <td>0.0</td>\n",
       "      <td>0.0</td>\n",
       "      <td>40.0</td>\n",
       "      <td>0.0</td>\n",
       "    </tr>\n",
       "    <tr>\n",
       "      <th>4</th>\n",
       "      <td>-10.051</td>\n",
       "      <td>13.0</td>\n",
       "      <td>2.0</td>\n",
       "      <td>0.0</td>\n",
       "      <td>0.0</td>\n",
       "      <td>0.0</td>\n",
       "      <td>40.0</td>\n",
       "      <td>0.0</td>\n",
       "    </tr>\n",
       "    <tr>\n",
       "      <th>...</th>\n",
       "      <td>...</td>\n",
       "      <td>...</td>\n",
       "      <td>...</td>\n",
       "      <td>...</td>\n",
       "      <td>...</td>\n",
       "      <td>...</td>\n",
       "      <td>...</td>\n",
       "      <td>...</td>\n",
       "    </tr>\n",
       "    <tr>\n",
       "      <th>995</th>\n",
       "      <td>17.949</td>\n",
       "      <td>9.0</td>\n",
       "      <td>4.0</td>\n",
       "      <td>1.0</td>\n",
       "      <td>0.0</td>\n",
       "      <td>0.0</td>\n",
       "      <td>55.0</td>\n",
       "      <td>1.0</td>\n",
       "    </tr>\n",
       "    <tr>\n",
       "      <th>996</th>\n",
       "      <td>6.949</td>\n",
       "      <td>14.0</td>\n",
       "      <td>4.0</td>\n",
       "      <td>1.0</td>\n",
       "      <td>0.0</td>\n",
       "      <td>0.0</td>\n",
       "      <td>45.0</td>\n",
       "      <td>0.0</td>\n",
       "    </tr>\n",
       "    <tr>\n",
       "      <th>997</th>\n",
       "      <td>9.949</td>\n",
       "      <td>13.0</td>\n",
       "      <td>4.0</td>\n",
       "      <td>1.0</td>\n",
       "      <td>0.0</td>\n",
       "      <td>0.0</td>\n",
       "      <td>58.0</td>\n",
       "      <td>1.0</td>\n",
       "    </tr>\n",
       "    <tr>\n",
       "      <th>998</th>\n",
       "      <td>1.949</td>\n",
       "      <td>10.0</td>\n",
       "      <td>4.0</td>\n",
       "      <td>1.0</td>\n",
       "      <td>2580.0</td>\n",
       "      <td>0.0</td>\n",
       "      <td>40.0</td>\n",
       "      <td>0.0</td>\n",
       "    </tr>\n",
       "    <tr>\n",
       "      <th>999</th>\n",
       "      <td>0.949</td>\n",
       "      <td>13.0</td>\n",
       "      <td>4.0</td>\n",
       "      <td>1.0</td>\n",
       "      <td>15024.0</td>\n",
       "      <td>0.0</td>\n",
       "      <td>50.0</td>\n",
       "      <td>1.0</td>\n",
       "    </tr>\n",
       "  </tbody>\n",
       "</table>\n",
       "<p>1000 rows × 8 columns</p>\n",
       "</div>"
      ],
      "text/plain": [
       "        age  education-num  race  sex  capital-gain  capital-loss  \\\n",
       "0     0.949           13.0   4.0  1.0        2174.0           0.0   \n",
       "1    11.949           13.0   4.0  1.0           0.0           0.0   \n",
       "2    -0.051            9.0   4.0  1.0           0.0           0.0   \n",
       "3    14.949            7.0   2.0  1.0           0.0           0.0   \n",
       "4   -10.051           13.0   2.0  0.0           0.0           0.0   \n",
       "..      ...            ...   ...  ...           ...           ...   \n",
       "995  17.949            9.0   4.0  1.0           0.0           0.0   \n",
       "996   6.949           14.0   4.0  1.0           0.0           0.0   \n",
       "997   9.949           13.0   4.0  1.0           0.0           0.0   \n",
       "998   1.949           10.0   4.0  1.0        2580.0           0.0   \n",
       "999   0.949           13.0   4.0  1.0       15024.0           0.0   \n",
       "\n",
       "     hours-per-week  income  \n",
       "0              40.0     0.0  \n",
       "1              13.0     0.0  \n",
       "2              40.0     0.0  \n",
       "3              40.0     0.0  \n",
       "4              40.0     0.0  \n",
       "..              ...     ...  \n",
       "995            55.0     1.0  \n",
       "996            45.0     0.0  \n",
       "997            58.0     1.0  \n",
       "998            40.0     0.0  \n",
       "999            50.0     1.0  \n",
       "\n",
       "[1000 rows x 8 columns]"
      ]
     },
     "execution_count": 9,
     "metadata": {},
     "output_type": "execute_result"
    }
   ],
   "source": [
    "data.apply(row_lot,axis=\"columns\")"
   ]
  },
  {
   "cell_type": "code",
   "execution_count": null,
   "id": "10ee5e79",
   "metadata": {},
   "outputs": [],
   "source": []
  }
 ],
 "metadata": {
  "kernelspec": {
   "display_name": "Python 3 (ipykernel)",
   "language": "python",
   "name": "python3"
  },
  "language_info": {
   "codemirror_mode": {
    "name": "ipython",
    "version": 3
   },
   "file_extension": ".py",
   "mimetype": "text/x-python",
   "name": "python",
   "nbconvert_exporter": "python",
   "pygments_lexer": "ipython3",
   "version": "3.11.5"
  }
 },
 "nbformat": 4,
 "nbformat_minor": 5
}
