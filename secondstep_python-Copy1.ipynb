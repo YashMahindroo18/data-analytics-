{
 "cells": [
  {
   "cell_type": "code",
   "execution_count": 1,
   "id": "6be36b55",
   "metadata": {},
   "outputs": [
    {
     "name": "stdout",
     "output_type": "stream",
     "text": [
      "this is a long dtring and supports multiline statements as well\n"
     ]
    }
   ],
   "source": [
    "name='yash'\n",
    "name2=\"mahindroo\"\n",
    "name3=\"\"\"this is a long dtring and supports multiline statements as well\"\"\"\n",
    "print(name3)"
   ]
  },
  {
   "cell_type": "code",
   "execution_count": 3,
   "id": "9772f3b6",
   "metadata": {},
   "outputs": [
    {
     "name": "stdout",
     "output_type": "stream",
     "text": [
      "hello, welcome to the world of 'python'\n"
     ]
    }
   ],
   "source": [
    "name4=\"hello, welcome to the world of 'python'\"\n",
    "print(name4)"
   ]
  },
  {
   "cell_type": "markdown",
   "id": "a442d4b9",
   "metadata": {},
   "source": [
    "# String concatination\n"
   ]
  },
  {
   "cell_type": "code",
   "execution_count": 8,
   "id": "736a573a",
   "metadata": {},
   "outputs": [
    {
     "name": "stdout",
     "output_type": "stream",
     "text": [
      "harry potter\n",
      "12\n"
     ]
    }
   ],
   "source": [
    "name=\"harry\"\n",
    "last_name=\"potter\"\n",
    "full=name+\" \"+last_name\n",
    "print(name +\" \"+last_name)\n",
    "print(len(full))"
   ]
  },
  {
   "cell_type": "code",
   "execution_count": null,
   "id": "6d97a271",
   "metadata": {},
   "outputs": [],
   "source": []
  }
 ],
 "metadata": {
  "kernelspec": {
   "display_name": "Python 3 (ipykernel)",
   "language": "python",
   "name": "python3"
  },
  "language_info": {
   "codemirror_mode": {
    "name": "ipython",
    "version": 3
   },
   "file_extension": ".py",
   "mimetype": "text/x-python",
   "name": "python",
   "nbconvert_exporter": "python",
   "pygments_lexer": "ipython3",
   "version": "3.11.5"
  }
 },
 "nbformat": 4,
 "nbformat_minor": 5
}
