{
 "cells": [
  {
   "cell_type": "markdown",
   "id": "d1a6a510",
   "metadata": {},
   "source": [
    "# Baics of probability"
   ]
  },
  {
   "cell_type": "code",
   "execution_count": 3,
   "id": "da59ded6",
   "metadata": {},
   "outputs": [
    {
     "name": "stdout",
     "output_type": "stream",
     "text": [
      "probability of getting a head  50.0%\n"
     ]
    }
   ],
   "source": [
    "h=1/2\n",
    "t=1/2\n",
    "print(\"probability of getting a head \",str(h*100)+\"%\")\n"
   ]
  },
  {
   "cell_type": "code",
   "execution_count": 8,
   "id": "c2cf11da",
   "metadata": {},
   "outputs": [
    {
     "name": "stdout",
     "output_type": "stream",
     "text": [
      "probality user not click on add 96.42857142857143%\n"
     ]
    }
   ],
   "source": [
    "total_visitor=2800\n",
    "num_visitor_clicked=100\n",
    "num_visitor_notclick=total_visitor-num_visitor_clicked\n",
    "p=num_visitor_notclick/total_visitor\n",
    "print(\"probality user not click on add\",str(p*100)+\"%\")"
   ]
  },
  {
   "cell_type": "code",
   "execution_count": 9,
   "id": "35f62ebc",
   "metadata": {},
   "outputs": [
    {
     "name": "stdout",
     "output_type": "stream",
     "text": [
      "probability clicked 3.571428571428571\n"
     ]
    }
   ],
   "source": [
    "c=num_visitor_clicked/total_visitor\n",
    "print(\"probability clicked\",c*100)"
   ]
  },
  {
   "cell_type": "code",
   "execution_count": 10,
   "id": "43845c65",
   "metadata": {},
   "outputs": [
    {
     "name": "stdout",
     "output_type": "stream",
     "text": [
      "1.5714285714285716\n"
     ]
    }
   ],
   "source": [
    "num_more_thanone=44\n",
    "x=num_more_thanone/total_visitor\n",
    "print(x*100)"
   ]
  },
  {
   "cell_type": "code",
   "execution_count": 11,
   "id": "1d141494",
   "metadata": {},
   "outputs": [
    {
     "name": "stdout",
     "output_type": "stream",
     "text": [
      "512.0\n"
     ]
    }
   ],
   "source": [
    "import math\n",
    "n=8\n",
    "r=3\n",
    "permu=math.pow(8,3)\n",
    "print(permu)"
   ]
  },
  {
   "cell_type": "code",
   "execution_count": 12,
   "id": "4123a013",
   "metadata": {},
   "outputs": [
    {
     "name": "stdout",
     "output_type": "stream",
     "text": [
      "60.0\n"
     ]
    }
   ],
   "source": [
    "n=5\n",
    "r=3\n",
    "permu=math.factorial(n)/math.factorial(n-r)\n",
    "print(permu)"
   ]
  },
  {
   "cell_type": "markdown",
   "id": "6fa05df2",
   "metadata": {},
   "source": [
    "# Combination"
   ]
  },
  {
   "cell_type": "code",
   "execution_count": 15,
   "id": "7aaa88cd",
   "metadata": {},
   "outputs": [
    {
     "data": {
      "text/plain": [
       "56.0"
      ]
     },
     "execution_count": 15,
     "metadata": {},
     "output_type": "execute_result"
    }
   ],
   "source": [
    "n=8\n",
    "r=3\n",
    "combination=math.factorial(n)/(math.factorial(r)*math.factorial(n-r))\n",
    "combination"
   ]
  },
  {
   "cell_type": "markdown",
   "id": "1ea53b76",
   "metadata": {},
   "source": [
    "# Joint probability "
   ]
  },
  {
   "cell_type": "markdown",
   "id": "3b10bc71",
   "metadata": {},
   "source": [
    "# ques- probability of getting a number 2 in red colour from a deck of cards"
   ]
  },
  {
   "cell_type": "code",
   "execution_count": 17,
   "id": "4e1b678d",
   "metadata": {},
   "outputs": [
    {
     "name": "stdout",
     "output_type": "stream",
     "text": [
      "probability 3.8461538461538463 %\n"
     ]
    }
   ],
   "source": [
    "p=2/52\n",
    "print(\"probability\",p*100,\"%\")"
   ]
  },
  {
   "cell_type": "code",
   "execution_count": 19,
   "id": "acf77898",
   "metadata": {},
   "outputs": [
    {
     "name": "stdout",
     "output_type": "stream",
     "text": [
      "probability of both 40.0 %\n"
     ]
    }
   ],
   "source": [
    "tc=100\n",
    "lc=80\n",
    "qc=60\n",
    "bc=(80+60-100)\n",
    "p=bc/tc\n",
    "print(\"probability of both\",round(p*100,2),\"%\")"
   ]
  },
  {
   "cell_type": "markdown",
   "id": "a270c078",
   "metadata": {},
   "source": [
    "# INdependent Event "
   ]
  },
  {
   "cell_type": "code",
   "execution_count": null,
   "id": "22421259",
   "metadata": {},
   "outputs": [],
   "source": []
  }
 ],
 "metadata": {
  "kernelspec": {
   "display_name": "Python 3 (ipykernel)",
   "language": "python",
   "name": "python3"
  },
  "language_info": {
   "codemirror_mode": {
    "name": "ipython",
    "version": 3
   },
   "file_extension": ".py",
   "mimetype": "text/x-python",
   "name": "python",
   "nbconvert_exporter": "python",
   "pygments_lexer": "ipython3",
   "version": "3.11.5"
  }
 },
 "nbformat": 4,
 "nbformat_minor": 5
}
