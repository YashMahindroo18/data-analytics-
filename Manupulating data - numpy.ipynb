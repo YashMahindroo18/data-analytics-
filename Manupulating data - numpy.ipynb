{
 "cells": [
  {
   "cell_type": "markdown",
   "id": "e7bc6b7a",
   "metadata": {},
   "source": [
    "# Numpy- numeric python"
   ]
  },
  {
   "cell_type": "code",
   "execution_count": 1,
   "id": "3538e93f",
   "metadata": {},
   "outputs": [
    {
     "data": {
      "text/plain": [
       "[1, 2, 3, 4, 5, 6, 7, 8]"
      ]
     },
     "execution_count": 1,
     "metadata": {},
     "output_type": "execute_result"
    }
   ],
   "source": [
    "l1=[1,2,3,4]\n",
    "l2=[5,6,7,8]\n",
    "l1+l2"
   ]
  },
  {
   "cell_type": "code",
   "execution_count": 3,
   "id": "b80131e9",
   "metadata": {},
   "outputs": [
    {
     "data": {
      "text/plain": [
       "array([ 5, 12, 21, 32])"
      ]
     },
     "execution_count": 3,
     "metadata": {},
     "output_type": "execute_result"
    }
   ],
   "source": [
    "import numpy as np\n",
    "arr1=np.array(l1)\n",
    "arr2=np.array(l2)\n",
    "arr1+arr2\n",
    "arr1-arr2\n",
    "arr1*arr2"
   ]
  },
  {
   "cell_type": "code",
   "execution_count": 4,
   "id": "7b02f1dc",
   "metadata": {},
   "outputs": [
    {
     "name": "stdout",
     "output_type": "stream",
     "text": [
      "[111 293 997]\n"
     ]
    }
   ],
   "source": [
    "lst=[101,283,987]\n",
    "arr3=np.array(lst)\n",
    "print(arr3+10)"
   ]
  },
  {
   "cell_type": "code",
   "execution_count": 5,
   "id": "2ba9c806",
   "metadata": {},
   "outputs": [
    {
     "data": {
      "text/plain": [
       "numpy.ndarray"
      ]
     },
     "execution_count": 5,
     "metadata": {},
     "output_type": "execute_result"
    }
   ],
   "source": [
    "type(arr3)"
   ]
  },
  {
   "cell_type": "markdown",
   "id": "220a0a90",
   "metadata": {},
   "source": [
    "## NumPy object creation\n"
   ]
  },
  {
   "cell_type": "markdown",
   "id": "7204271c",
   "metadata": {},
   "source": [
    "## 1 dimensional array"
   ]
  },
  {
   "cell_type": "code",
   "execution_count": 9,
   "id": "0e02ff15",
   "metadata": {},
   "outputs": [
    {
     "name": "stdout",
     "output_type": "stream",
     "text": [
      "[1 2 3 4]\n",
      "----------\n",
      "[[1 2 3]\n",
      " [4 5 6]]\n"
     ]
    }
   ],
   "source": [
    "a=np.array([1,2,3,4])\n",
    "b=np.array([[1,2,3],[4,5,6]])\n",
    "print(a)\n",
    "print(\"----------\")\n",
    "print(b)"
   ]
  },
  {
   "cell_type": "code",
   "execution_count": 10,
   "id": "c7f0ac77",
   "metadata": {},
   "outputs": [
    {
     "name": "stdout",
     "output_type": "stream",
     "text": [
      "shape of a is  (4,)\n",
      "shape of b is  (2, 3)\n"
     ]
    }
   ],
   "source": [
    "print(\"shape of a is \",a.shape)\n",
    "print(\"shape of b is \",b.shape)"
   ]
  },
  {
   "cell_type": "markdown",
   "id": "07f8dd1d",
   "metadata": {},
   "source": [
    "## dimension"
   ]
  },
  {
   "cell_type": "code",
   "execution_count": 14,
   "id": "863122fd",
   "metadata": {},
   "outputs": [
    {
     "name": "stdout",
     "output_type": "stream",
     "text": [
      "dimension of a is  2\n"
     ]
    }
   ],
   "source": [
    "print(\"dimension of a is \",a.ndim)"
   ]
  },
  {
   "cell_type": "markdown",
   "id": "bfc7ea92",
   "metadata": {},
   "source": [
    "## size"
   ]
  },
  {
   "cell_type": "code",
   "execution_count": 16,
   "id": "2c9549b9",
   "metadata": {},
   "outputs": [
    {
     "name": "stdout",
     "output_type": "stream",
     "text": [
      "6\n"
     ]
    }
   ],
   "source": [
    "print(b.size)"
   ]
  },
  {
   "cell_type": "markdown",
   "id": "1ef80724",
   "metadata": {},
   "source": [
    "# datatype"
   ]
  },
  {
   "cell_type": "code",
   "execution_count": 18,
   "id": "fce69b23",
   "metadata": {},
   "outputs": [
    {
     "name": "stdout",
     "output_type": "stream",
     "text": [
      "int32\n"
     ]
    }
   ],
   "source": [
    "print(a.dtype)"
   ]
  },
  {
   "cell_type": "markdown",
   "id": "46cf1844",
   "metadata": {},
   "source": [
    "## Matrix creation"
   ]
  },
  {
   "cell_type": "code",
   "execution_count": 23,
   "id": "7c820773",
   "metadata": {},
   "outputs": [
    {
     "data": {
      "text/plain": [
       "array([[1, 2, 4],\n",
       "       [4, 5, 6],\n",
       "       [4, 5, 6]])"
      ]
     },
     "execution_count": 23,
     "metadata": {},
     "output_type": "execute_result"
    }
   ],
   "source": [
    "np.array([1,2,4,4,5,6,4,5,6]).reshape(3,3)"
   ]
  },
  {
   "cell_type": "code",
   "execution_count": 25,
   "id": "c2137573",
   "metadata": {},
   "outputs": [
    {
     "data": {
      "text/plain": [
       "matrix([[1, 2, 3],\n",
       "        [4, 5, 6],\n",
       "        [7, 8, 9]])"
      ]
     },
     "execution_count": 25,
     "metadata": {},
     "output_type": "execute_result"
    }
   ],
   "source": [
    "np.matrix([[1,2,3],[4,5,6],[7,8,9]])"
   ]
  },
  {
   "cell_type": "code",
   "execution_count": 30,
   "id": "a22d7019",
   "metadata": {},
   "outputs": [
    {
     "data": {
      "text/plain": [
       "array([[1., 0.],\n",
       "       [0., 1.]])"
      ]
     },
     "execution_count": 30,
     "metadata": {},
     "output_type": "execute_result"
    }
   ],
   "source": [
    "np.eye(2)#identity matrix"
   ]
  },
  {
   "cell_type": "code",
   "execution_count": 35,
   "id": "5fc8e292",
   "metadata": {},
   "outputs": [
    {
     "data": {
      "text/plain": [
       "array([[0, 0, 0],\n",
       "       [0, 0, 0],\n",
       "       [0, 0, 0],\n",
       "       [0, 0, 0]])"
      ]
     },
     "execution_count": 35,
     "metadata": {},
     "output_type": "execute_result"
    }
   ],
   "source": [
    "np.zeros((4,3),dtype=np.int32)"
   ]
  },
  {
   "cell_type": "code",
   "execution_count": 36,
   "id": "b187bf37",
   "metadata": {},
   "outputs": [
    {
     "data": {
      "text/plain": [
       "array([[1, 1, 1, 1],\n",
       "       [1, 1, 1, 1],\n",
       "       [1, 1, 1, 1]])"
      ]
     },
     "execution_count": 36,
     "metadata": {},
     "output_type": "execute_result"
    }
   ],
   "source": [
    "np.ones((3,4),dtype=np.int32)"
   ]
  },
  {
   "cell_type": "code",
   "execution_count": 37,
   "id": "567d1522",
   "metadata": {},
   "outputs": [
    {
     "data": {
      "text/plain": [
       "array([ 1,  2,  3,  4,  5,  6,  7,  8,  9, 10, 11, 12, 13, 14, 15, 16, 17,\n",
       "       18, 19])"
      ]
     },
     "execution_count": 37,
     "metadata": {},
     "output_type": "execute_result"
    }
   ],
   "source": [
    "np.arange(1,20)"
   ]
  },
  {
   "cell_type": "code",
   "execution_count": 38,
   "id": "ff0a9798",
   "metadata": {},
   "outputs": [
    {
     "data": {
      "text/plain": [
       "array([ 1,  3,  5,  7,  9, 11, 13, 15, 17, 19])"
      ]
     },
     "execution_count": 38,
     "metadata": {},
     "output_type": "execute_result"
    }
   ],
   "source": [
    "np.arange(1,20,2)"
   ]
  },
  {
   "cell_type": "markdown",
   "id": "d2865ba2",
   "metadata": {},
   "source": [
    "###Practice Exercise:\n",
    "Store the marks and IDs of three students as NumPy arrays. The marks are [20, 30, 40] and IDs are [0,2,4]. Store array for marks in a variable marks and the one for IDs in another variable ids. Display both marks and ids."
   ]
  },
  {
   "cell_type": "code",
   "execution_count": 41,
   "id": "8e21ab72",
   "metadata": {},
   "outputs": [
    {
     "name": "stdout",
     "output_type": "stream",
     "text": [
      "[20 30 40]\n",
      "[0 2 4]\n"
     ]
    }
   ],
   "source": [
    "marks=np.array([20,30,40])\n",
    "IDs=np.array([0,2,4])\n",
    "print(marks)\n",
    "print(IDs)"
   ]
  },
  {
   "cell_type": "markdown",
   "id": "4ef67f2f",
   "metadata": {},
   "source": [
    "## indxing and slicing"
   ]
  },
  {
   "cell_type": "code",
   "execution_count": 42,
   "id": "375d27f8",
   "metadata": {},
   "outputs": [
    {
     "data": {
      "text/plain": [
       "array([[1, 2, 3],\n",
       "       [4, 5, 6],\n",
       "       [7, 8, 9]])"
      ]
     },
     "execution_count": 42,
     "metadata": {},
     "output_type": "execute_result"
    }
   ],
   "source": [
    "a=np.array([[1,2,3],[4,5,6],[7,8,9]])\n",
    "a"
   ]
  },
  {
   "cell_type": "code",
   "execution_count": 43,
   "id": "f462382d",
   "metadata": {},
   "outputs": [
    {
     "data": {
      "text/plain": [
       "array([7, 8, 9])"
      ]
     },
     "execution_count": 43,
     "metadata": {},
     "output_type": "execute_result"
    }
   ],
   "source": [
    "a[2]"
   ]
  },
  {
   "cell_type": "code",
   "execution_count": 44,
   "id": "140d05e6",
   "metadata": {},
   "outputs": [
    {
     "data": {
      "text/plain": [
       "8"
      ]
     },
     "execution_count": 44,
     "metadata": {},
     "output_type": "execute_result"
    }
   ],
   "source": [
    "a[2][1]"
   ]
  },
  {
   "cell_type": "code",
   "execution_count": 49,
   "id": "2fe8b302",
   "metadata": {},
   "outputs": [
    {
     "name": "stdout",
     "output_type": "stream",
     "text": [
      "[7 8 9]\n"
     ]
    }
   ],
   "source": [
    "print(a[2])"
   ]
  },
  {
   "cell_type": "markdown",
   "id": "4c50e0c4",
   "metadata": {},
   "source": [
    "## integer array indexing"
   ]
  },
  {
   "cell_type": "code",
   "execution_count": 51,
   "id": "e9c75a80",
   "metadata": {},
   "outputs": [],
   "source": [
    "a=np.array([[1,2],[3,4],[5,6]])"
   ]
  },
  {
   "cell_type": "code",
   "execution_count": 53,
   "id": "5eb4af72",
   "metadata": {},
   "outputs": [
    {
     "data": {
      "text/plain": [
       "array([1, 4, 5])"
      ]
     },
     "execution_count": 53,
     "metadata": {},
     "output_type": "execute_result"
    }
   ],
   "source": [
    "a[[0,1,2],[0,1,0]]"
   ]
  },
  {
   "cell_type": "code",
   "execution_count": 54,
   "id": "6030b5e1",
   "metadata": {},
   "outputs": [
    {
     "data": {
      "text/plain": [
       "array([2, 2])"
      ]
     },
     "execution_count": 54,
     "metadata": {},
     "output_type": "execute_result"
    }
   ],
   "source": [
    "a[[0,0],[1,1]]"
   ]
  },
  {
   "cell_type": "code",
   "execution_count": 55,
   "id": "24f4d3b3",
   "metadata": {},
   "outputs": [
    {
     "data": {
      "text/plain": [
       "array([2, 2])"
      ]
     },
     "execution_count": 55,
     "metadata": {},
     "output_type": "execute_result"
    }
   ],
   "source": [
    "np.array(a[[0,0],[1,1]])"
   ]
  },
  {
   "cell_type": "code",
   "execution_count": 57,
   "id": "de72407a",
   "metadata": {},
   "outputs": [
    {
     "name": "stdout",
     "output_type": "stream",
     "text": [
      "[[False False]\n",
      " [False  True]\n",
      " [ True  True]]\n",
      "[4 5 6]\n"
     ]
    }
   ],
   "source": [
    "a=np.array([[1,2],[3,4],[5,6]])\n",
    "mask=a>3\n",
    "print(mask)\n",
    "print(a[mask])"
   ]
  },
  {
   "cell_type": "markdown",
   "id": "cdff4838",
   "metadata": {},
   "source": [
    "## vectoristaion"
   ]
  },
  {
   "cell_type": "code",
   "execution_count": 60,
   "id": "7c7f30ed",
   "metadata": {},
   "outputs": [
    {
     "data": {
      "text/plain": [
       "array([ 3,  4,  5,  6, 67,  8])"
      ]
     },
     "execution_count": 60,
     "metadata": {},
     "output_type": "execute_result"
    }
   ],
   "source": [
    "a=np.array([1,2,3,4,5,6,67,8])\n",
    "a[a>2]"
   ]
  },
  {
   "cell_type": "markdown",
   "id": "38ea854f",
   "metadata": {},
   "source": [
    "# Axes Notation"
   ]
  },
  {
   "cell_type": "code",
   "execution_count": 67,
   "id": "749a9d2a",
   "metadata": {},
   "outputs": [
    {
     "ename": "TypeError",
     "evalue": "Field elements must be 2- or 3-tuples, got '4'",
     "output_type": "error",
     "traceback": [
      "\u001b[1;31m---------------------------------------------------------------------------\u001b[0m",
      "\u001b[1;31mTypeError\u001b[0m                                 Traceback (most recent call last)",
      "Cell \u001b[1;32mIn[67], line 1\u001b[0m\n\u001b[1;32m----> 1\u001b[0m a\u001b[38;5;241m=\u001b[39mnp\u001b[38;5;241m.\u001b[39marray([\u001b[38;5;241m1\u001b[39m,\u001b[38;5;241m2\u001b[39m,\u001b[38;5;241m3\u001b[39m],[\u001b[38;5;241m4\u001b[39m,\u001b[38;5;241m4\u001b[39m,\u001b[38;5;241m5\u001b[39m])\n\u001b[0;32m      2\u001b[0m a\u001b[38;5;241m.\u001b[39msum(axis\u001b[38;5;241m=\u001b[39m\u001b[38;5;241m0\u001b[39m)\n",
      "\u001b[1;31mTypeError\u001b[0m: Field elements must be 2- or 3-tuples, got '4'"
     ]
    }
   ],
   "source": [
    "a=np.array([1,2,3],[4,4,5])\n",
    "a.sum(axis=0)# calculates sum over columns\n"
   ]
  },
  {
   "cell_type": "code",
   "execution_count": 71,
   "id": "4cad94b4",
   "metadata": {},
   "outputs": [
    {
     "data": {
      "text/plain": [
       "96"
      ]
     },
     "execution_count": 71,
     "metadata": {},
     "output_type": "execute_result"
    }
   ],
   "source": [
    "a.sum(axis=0)#calculates sum over columns"
   ]
  },
  {
   "cell_type": "code",
   "execution_count": 69,
   "id": "1eb81fc2",
   "metadata": {},
   "outputs": [
    {
     "data": {
      "text/plain": [
       "96"
      ]
     },
     "execution_count": 69,
     "metadata": {},
     "output_type": "execute_result"
    }
   ],
   "source": [
    "a.sum()"
   ]
  },
  {
   "cell_type": "markdown",
   "id": "c6ba5e8d",
   "metadata": {},
   "source": [
    "# We have a buy sell problem:\n",
    "\n",
    "Initialize an array [[40, 35, 20], [21, 48, 70]] which constitutes the prices on 2 consecutive day at 3 different sessions of the day. The objective is to buy at minimum price on day 1 and sell at maximum on day.\n",
    "\n",
    "1. Find the minimum price on day 1.\n",
    "2. Find the maximum price on day 2.\n",
    "3. Calculate the profit and print it."
   ]
  },
  {
   "cell_type": "code",
   "execution_count": 3,
   "id": "ee0ef8ba",
   "metadata": {},
   "outputs": [
    {
     "data": {
      "text/plain": [
       "array([[40, 35, 20],\n",
       "       [21, 48, 70]])"
      ]
     },
     "execution_count": 3,
     "metadata": {},
     "output_type": "execute_result"
    }
   ],
   "source": [
    "import numpy as p\n",
    "arra=p.array([[40,35,20],[21,48,70]])\n",
    "arra"
   ]
  },
  {
   "cell_type": "markdown",
   "id": "e1f2ab27",
   "metadata": {},
   "source": [
    "# hello"
   ]
  },
  {
   "cell_type": "code",
   "execution_count": 16,
   "id": "50a68f82",
   "metadata": {},
   "outputs": [
    {
     "data": {
      "text/plain": [
       "20"
      ]
     },
     "execution_count": 16,
     "metadata": {},
     "output_type": "execute_result"
    }
   ],
   "source": [
    "min_price = arra[0].min()\n",
    "min_price"
   ]
  },
  {
   "cell_type": "code",
   "execution_count": 17,
   "id": "a2c4b106",
   "metadata": {},
   "outputs": [
    {
     "data": {
      "text/plain": [
       "70"
      ]
     },
     "execution_count": 17,
     "metadata": {},
     "output_type": "execute_result"
    }
   ],
   "source": [
    "max_price=arra[1].max()\n",
    "max_price"
   ]
  },
  {
   "cell_type": "code",
   "execution_count": 18,
   "id": "e80c0165",
   "metadata": {},
   "outputs": [
    {
     "data": {
      "text/plain": [
       "50"
      ]
     },
     "execution_count": 18,
     "metadata": {},
     "output_type": "execute_result"
    }
   ],
   "source": [
    "profit=max_price-min_price\n",
    "profit"
   ]
  },
  {
   "cell_type": "markdown",
   "id": "ecf15701",
   "metadata": {},
   "source": [
    "# broadcasting "
   ]
  },
  {
   "cell_type": "code",
   "execution_count": 4,
   "id": "c502e8e8",
   "metadata": {},
   "outputs": [
    {
     "data": {
      "text/plain": [
       "array([0, 1, 2, 3])"
      ]
     },
     "execution_count": 4,
     "metadata": {},
     "output_type": "execute_result"
    }
   ],
   "source": [
    "p.arange(4)"
   ]
  },
  {
   "cell_type": "code",
   "execution_count": 12,
   "id": "27e5b096",
   "metadata": {},
   "outputs": [
    {
     "data": {
      "text/plain": [
       "array([[1., 2., 3.],\n",
       "       [1., 2., 3.],\n",
       "       [1., 2., 3.]])"
      ]
     },
     "execution_count": 12,
     "metadata": {},
     "output_type": "execute_result"
    }
   ],
   "source": [
    "p.ones((3,3)) +p.arange(3)"
   ]
  },
  {
   "cell_type": "code",
   "execution_count": 6,
   "id": "6a052b13",
   "metadata": {},
   "outputs": [
    {
     "data": {
      "text/plain": [
       "array([0, 1, 2])"
      ]
     },
     "execution_count": 6,
     "metadata": {},
     "output_type": "execute_result"
    }
   ],
   "source": [
    "p.arange(3)"
   ]
  },
  {
   "cell_type": "code",
   "execution_count": 14,
   "id": "2e76f38a",
   "metadata": {},
   "outputs": [
    {
     "data": {
      "text/plain": [
       "array([[0, 1],\n",
       "       [2, 3],\n",
       "       [4, 5]])"
      ]
     },
     "execution_count": 14,
     "metadata": {},
     "output_type": "execute_result"
    }
   ],
   "source": [
    "p.arange(6).reshape(3,2)"
   ]
  },
  {
   "cell_type": "code",
   "execution_count": 26,
   "id": "12d28f56",
   "metadata": {},
   "outputs": [
    {
     "data": {
      "text/plain": [
       "array([[0, 1, 2],\n",
       "       [1, 2, 3],\n",
       "       [2, 3, 4]])"
      ]
     },
     "execution_count": 26,
     "metadata": {},
     "output_type": "execute_result"
    }
   ],
   "source": [
    "p.arange(3).reshape(3,1)+p.arange(3)"
   ]
  },
  {
   "cell_type": "markdown",
   "id": "15718abf",
   "metadata": {},
   "source": [
    "### Practice Exercise\n",
    "In this task, you will normalize i.e. subtract the minimum value and divide by the range:\n",
    "\n",
    "1. Create a random 5x5 matrix with the help of np.random.random((5,5))\n",
    "2. Calculate the minimum and maximum value with the help of .min() and .max() methods respectively\n",
    "3. Now using the power of broadcasting subtract the minimum value from each element and divide by their range (maximum-minimum) to normalize. Save this normalized as z_norm\n",
    "4. Print the standardized arra"
   ]
  },
  {
   "cell_type": "code",
   "execution_count": 17,
   "id": "bb76cb98",
   "metadata": {},
   "outputs": [
    {
     "data": {
      "text/plain": [
       "array([[0.88594528, 0.48393082, 0.19364381, 0.14280311, 0.87986356],\n",
       "       [0.98353407, 0.42676893, 0.34837045, 0.1186176 , 0.52587611],\n",
       "       [0.37874089, 0.15170472, 0.56674999, 0.37934842, 0.48606146],\n",
       "       [0.09556615, 0.24701784, 0.86760487, 0.84405608, 0.69099725],\n",
       "       [0.02848286, 0.43887169, 0.62866928, 0.06143449, 0.87895419]])"
      ]
     },
     "execution_count": 17,
     "metadata": {},
     "output_type": "execute_result"
    }
   ],
   "source": [
    "a=p.random.random((5,5))\n",
    "a"
   ]
  },
  {
   "cell_type": "code",
   "execution_count": 18,
   "id": "432df331",
   "metadata": {},
   "outputs": [
    {
     "data": {
      "text/plain": [
       "0.028482857218153468"
      ]
     },
     "execution_count": 18,
     "metadata": {},
     "output_type": "execute_result"
    }
   ],
   "source": [
    "x=a.min()\n",
    "x"
   ]
  },
  {
   "cell_type": "code",
   "execution_count": 19,
   "id": "61043efc",
   "metadata": {},
   "outputs": [
    {
     "data": {
      "text/plain": [
       "0.9835340726963799"
      ]
     },
     "execution_count": 19,
     "metadata": {},
     "output_type": "execute_result"
    }
   ],
   "source": [
    "y=a.max()\n",
    "y"
   ]
  },
  {
   "cell_type": "code",
   "execution_count": 21,
   "id": "79e8cd5c",
   "metadata": {},
   "outputs": [
    {
     "data": {
      "text/plain": [
       "array([[0.87181771, 0.46307289, 0.16792601, 0.11623416, 0.86563417],\n",
       "       [0.97104029, 0.40495402, 0.32524302, 0.09164374, 0.50572041],\n",
       "       [0.35612191, 0.1252848 , 0.54727858, 0.35673961, 0.4652392 ],\n",
       "       [0.06820638, 0.22219361, 0.85317026, 0.82922721, 0.67360594],\n",
       "       [0.        , 0.41725939, 0.6102345 , 0.0335033 , 0.86470957]])"
      ]
     },
     "execution_count": 21,
     "metadata": {},
     "output_type": "execute_result"
    }
   ],
   "source": [
    "z=(a-x)/y\n",
    "z"
   ]
  },
  {
   "cell_type": "code",
   "execution_count": 22,
   "id": "083c1f3b",
   "metadata": {},
   "outputs": [
    {
     "data": {
      "text/plain": [
       "0.9835340726963799"
      ]
     },
     "execution_count": 22,
     "metadata": {},
     "output_type": "execute_result"
    }
   ],
   "source": [
    "y"
   ]
  },
  {
   "cell_type": "markdown",
   "id": "229a697b",
   "metadata": {},
   "source": [
    "# mini project\n",
    "\n",
    "## Columns=features\n",
    "## rows = observations\n"
   ]
  },
  {
   "cell_type": "code",
   "execution_count": 25,
   "id": "21cccc7d",
   "metadata": {},
   "outputs": [],
   "source": [
    "data_file=\"makeSenseOfCensus.csv\""
   ]
  },
  {
   "cell_type": "code",
   "execution_count": 26,
   "id": "74e5c382",
   "metadata": {},
   "outputs": [
    {
     "data": {
      "text/plain": [
       "array([[39., 13.,  4., ...,  0., 40.,  0.],\n",
       "       [50., 13.,  4., ...,  0., 13.,  0.],\n",
       "       [38.,  9.,  4., ...,  0., 40.,  0.],\n",
       "       ...,\n",
       "       [48., 13.,  4., ...,  0., 58.,  1.],\n",
       "       [40., 10.,  4., ...,  0., 40.,  0.],\n",
       "       [39., 13.,  4., ...,  0., 50.,  1.]])"
      ]
     },
     "execution_count": 26,
     "metadata": {},
     "output_type": "execute_result"
    }
   ],
   "source": [
    "data=p.genfromtxt(data_file,delimiter=\",\",skip_header=1)\n",
    "data"
   ]
  },
  {
   "cell_type": "code",
   "execution_count": 41,
   "id": "864a19c6",
   "metadata": {},
   "outputs": [
    {
     "data": {
      "text/plain": [
       "array([[39., 13.,  4., ...,  0., 40.,  0.],\n",
       "       [50., 13.,  4., ...,  0., 13.,  0.],\n",
       "       [38.,  9.,  4., ...,  0., 40.,  0.],\n",
       "       ...,\n",
       "       [48., 13.,  4., ...,  0., 58.,  1.],\n",
       "       [40., 10.,  4., ...,  0., 40.,  0.],\n",
       "       [39., 13.,  4., ...,  0., 50.,  1.]])"
      ]
     },
     "execution_count": 41,
     "metadata": {},
     "output_type": "execute_result"
    }
   ],
   "source": [
    "data"
   ]
  },
  {
   "cell_type": "code",
   "execution_count": 29,
   "id": "3c6a2a1e",
   "metadata": {},
   "outputs": [
    {
     "data": {
      "text/plain": [
       "array([[39., 13.,  4., ...,  0., 40.,  0.],\n",
       "       [50., 13.,  4., ...,  0., 13.,  0.],\n",
       "       [38.,  9.,  4., ...,  0., 40.,  0.],\n",
       "       ...,\n",
       "       [40., 10.,  4., ...,  0., 40.,  0.],\n",
       "       [39., 13.,  4., ...,  0., 50.,  1.],\n",
       "       [23., 45.,  6., ...,  4.,  0.,  9.]])"
      ]
     },
     "execution_count": 29,
     "metadata": {},
     "output_type": "execute_result"
    }
   ],
   "source": [
    "new_record=[[23,45,6,7,89,4,0,9]]\n",
    "new_data=p.concatenate((data,new_record),axis=0)\n",
    "new_data"
   ]
  },
  {
   "cell_type": "code",
   "execution_count": 30,
   "id": "f503d044",
   "metadata": {},
   "outputs": [
    {
     "data": {
      "text/plain": [
       "array([39., 50., 38., ..., 40., 39., 23.])"
      ]
     },
     "execution_count": 30,
     "metadata": {},
     "output_type": "execute_result"
    }
   ],
   "source": [
    "age=new_data[:,0]\n",
    "age"
   ]
  },
  {
   "cell_type": "code",
   "execution_count": 31,
   "id": "eaec22f5",
   "metadata": {},
   "outputs": [
    {
     "name": "stdout",
     "output_type": "stream",
     "text": [
      "amx age= 90.0\n"
     ]
    }
   ],
   "source": [
    "max_age=age.max()\n",
    "print(\"amx age=\",max_age)"
   ]
  },
  {
   "cell_type": "code",
   "execution_count": 32,
   "id": "79e6582c",
   "metadata": {},
   "outputs": [
    {
     "name": "stdout",
     "output_type": "stream",
     "text": [
      "minimum age 17.0\n"
     ]
    }
   ],
   "source": [
    "min_age=age.min()\n",
    "print(\"minimum age\",min_age)"
   ]
  },
  {
   "cell_type": "code",
   "execution_count": 33,
   "id": "6df9f25c",
   "metadata": {},
   "outputs": [
    {
     "name": "stdout",
     "output_type": "stream",
     "text": [
      "average age: 38.035964035964035\n"
     ]
    }
   ],
   "source": [
    "age_mean=age.mean()\n",
    "print(\"average age:\",age_mean)"
   ]
  },
  {
   "cell_type": "code",
   "execution_count": 53,
   "id": "a6c28654",
   "metadata": {},
   "outputs": [
    {
     "name": "stdout",
     "output_type": "stream",
     "text": [
      "standard deviation: 13.344610397761235\n"
     ]
    }
   ],
   "source": [
    "age_std=age.std()\n",
    "print(\"standard deviation:\",age_std)"
   ]
  },
  {
   "cell_type": "code",
   "execution_count": 34,
   "id": "b74cfa0c",
   "metadata": {},
   "outputs": [],
   "source": [
    "race=new_data[:,2]\n",
    "race_0=race[race==0]\n",
    "race_1=race[race==1]\n",
    "race_2=race[race==2]\n",
    "race_3=race[race==3]\n",
    "\n",
    "race_4=race[race==4]"
   ]
  },
  {
   "cell_type": "code",
   "execution_count": 35,
   "id": "408b16f5",
   "metadata": {},
   "outputs": [
    {
     "name": "stdout",
     "output_type": "stream",
     "text": [
      "10 27 110 6 847\n"
     ]
    }
   ],
   "source": [
    "len_0=len(race_0)\n",
    "len_1=len(race_1)\n",
    "len_2=len(race_2)\n",
    "len_3=len(race_3)\n",
    "len_4=len(race_4)\n",
    "print(len_0,len_1,len_2,len_3,len_4)"
   ]
  },
  {
   "cell_type": "code",
   "execution_count": 37,
   "id": "c78f9cbe",
   "metadata": {},
   "outputs": [
    {
     "name": "stdout",
     "output_type": "stream",
     "text": [
      "minimum number of citizens in a race 6\n"
     ]
    }
   ],
   "source": [
    "len1=[len_0,len_1,len_2,len_3,len_4]\n",
    "len_arr=p.array(len1)\n",
    "print(\"minimum number of citizens in a race\",len_arr.min())"
   ]
  },
  {
   "cell_type": "markdown",
   "id": "153f75c9",
   "metadata": {},
   "source": []
  },
  {
   "cell_type": "code",
   "execution_count": 38,
   "id": "f77e2a9b",
   "metadata": {},
   "outputs": [],
   "source": [
    "minority_race=6"
   ]
  },
  {
   "cell_type": "code",
   "execution_count": 39,
   "id": "79913c63",
   "metadata": {},
   "outputs": [
    {
     "name": "stdout",
     "output_type": "stream",
     "text": [
      "minority_race: 3\n"
     ]
    }
   ],
   "source": [
    "if minority_race==len_0:\n",
    "    minority_race=0\n",
    "elif minority_race==len_1:\n",
    "    minority_race=1\n",
    "elif minority_race==len_2:\n",
    "    minority_race=2\n",
    "elif minority_race==len_3:\n",
    "    minority_race=3\n",
    "elif minority_race==len_4:\n",
    "    minority_race=4\n",
    "print(\"minority_race:\",minority_race)"
   ]
  },
  {
   "cell_type": "code",
   "execution_count": 40,
   "id": "b9783270",
   "metadata": {},
   "outputs": [
    {
     "data": {
      "text/plain": [
       "array([79., 67., 76., 61., 70., 64., 71., 68., 66., 64., 90., 66., 75.,\n",
       "       65., 64., 61., 65., 77., 62., 76., 63., 66., 67., 65., 62., 63.,\n",
       "       80., 67., 63., 72., 62., 74., 67., 72., 69., 65., 65., 71., 70.,\n",
       "       66., 65., 61., 61., 68., 64., 64., 62., 73., 72., 63., 62., 61.,\n",
       "       71., 63., 63., 67., 81., 64., 67., 78., 63.])"
      ]
     },
     "execution_count": 40,
     "metadata": {},
     "output_type": "execute_result"
    }
   ],
   "source": [
    "senior=age[age>60]\n",
    "senior"
   ]
  },
  {
   "cell_type": "code",
   "execution_count": 43,
   "id": "d396926b",
   "metadata": {},
   "outputs": [
    {
     "name": "stdout",
     "output_type": "stream",
     "text": [
      "working sum 1917.0\n"
     ]
    }
   ],
   "source": [
    "working_hours=new_data[:,6]\n",
    "working_sum=p.sum(working_hours[age>60])\n",
    "print(\"working sum\",working_sum)"
   ]
  },
  {
   "cell_type": "code",
   "execution_count": 44,
   "id": "75e0576f",
   "metadata": {},
   "outputs": [
    {
     "data": {
      "text/plain": [
       "61"
      ]
     },
     "execution_count": 44,
     "metadata": {},
     "output_type": "execute_result"
    }
   ],
   "source": [
    "senior_len=len(senior)\n",
    "senior_len"
   ]
  },
  {
   "cell_type": "code",
   "execution_count": 45,
   "id": "430b8d3b",
   "metadata": {},
   "outputs": [
    {
     "name": "stdout",
     "output_type": "stream",
     "text": [
      "average working hours: 31.42622950819672\n"
     ]
    }
   ],
   "source": [
    "avg_working=working_sum/senior_len\n",
    "print(\"average working hours:\",avg_working)"
   ]
  },
  {
   "cell_type": "code",
   "execution_count": 47,
   "id": "fa171c4f",
   "metadata": {},
   "outputs": [
    {
     "name": "stdout",
     "output_type": "stream",
     "text": [
      "not followed\n"
     ]
    }
   ],
   "source": [
    "if avg_working<=25:\n",
    "    print(\"followed\")\n",
    "else:\n",
    "    print(\"not followed\")"
   ]
  },
  {
   "cell_type": "code",
   "execution_count": null,
   "id": "a419274f",
   "metadata": {},
   "outputs": [],
   "source": []
  }
 ],
 "metadata": {
  "kernelspec": {
   "display_name": "Python 3 (ipykernel)",
   "language": "python",
   "name": "python3"
  },
  "language_info": {
   "codemirror_mode": {
    "name": "ipython",
    "version": 3
   },
   "file_extension": ".py",
   "mimetype": "text/x-python",
   "name": "python",
   "nbconvert_exporter": "python",
   "pygments_lexer": "ipython3",
   "version": "3.11.5"
  }
 },
 "nbformat": 4,
 "nbformat_minor": 5
}
